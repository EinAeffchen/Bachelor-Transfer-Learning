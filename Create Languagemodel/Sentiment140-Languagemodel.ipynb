{
 "cells": [
  {
   "cell_type": "markdown",
   "metadata": {},
   "source": [
    "# Twitter Languagemodel Creator"
   ]
  },
  {
   "cell_type": "code",
   "execution_count": 6,
   "metadata": {
    "ExecuteTime": {
     "end_time": "2018-10-08T16:31:06.590950Z",
     "start_time": "2018-10-08T16:30:57.678169Z"
    },
    "init_cell": true
   },
   "outputs": [],
   "source": [
    "from fastai.fastai.text import *\n",
    "\n",
    "import csv\n",
    "import warnings\n",
    "warnings.filterwarnings('ignore')"
   ]
  },
  {
   "cell_type": "code",
   "execution_count": 7,
   "metadata": {
    "init_cell": true
   },
   "outputs": [],
   "source": [
    "PATH = Path(\"sentiment140/\")\n",
    "\n",
    "CLAS_PATH = Path(\"twit_clas_50k/\")\n",
    "CLAS_PATH.mkdir(exist_ok=True)\n",
    "\n",
    "LM_PATH = Path(\"twit_lm_50k/\")\n",
    "LM_PATH.mkdir(exist_ok=True)"
   ]
  },
  {
   "cell_type": "code",
   "execution_count": 8,
   "metadata": {
    "init_cell": true
   },
   "outputs": [],
   "source": [
    "col_names = [\"labels\", \"text\"]"
   ]
  },
  {
   "cell_type": "code",
   "execution_count": 9,
   "metadata": {
    "init_cell": true
   },
   "outputs": [],
   "source": [
    "def get_texts(path):\n",
    "    texts, labels, data = [],[],[]\n",
    "    \n",
    "    with open(path, \"r\") as dataset:\n",
    "        reader = csv.reader(dataset, delimiter=\",\")\n",
    "        data = list(reader)\n",
    "    dataset.close()\n",
    "    for turn in data:\n",
    "        texts.append(turn[5])\n",
    "        labels.append(turn[0])\n",
    "    return np.array(texts), np.array(labels)\n",
    "\n"
   ]
  },
  {
   "cell_type": "code",
   "execution_count": 10,
   "metadata": {
    "init_cell": true
   },
   "outputs": [
    {
     "name": "stdout",
     "output_type": "stream",
     "text": [
      "1600000\n"
     ]
    }
   ],
   "source": [
    "trn_texts, trn_labels = get_texts(PATH/\"train.csv\")\n",
    "print(len(trn_texts))\n",
    "\n",
    "ratio = 10\n",
    "\n",
    "\n",
    "val_texts, val_labels = trn_texts[:int(len(trn_texts)/ratio)], trn_labels[:int(len(trn_labels)/ratio)]\n",
    "trn_texts, trn_labels = trn_texts[int(len(trn_texts)/ratio):], trn_labels[int(len(trn_labels)/ratio):]"
   ]
  },
  {
   "cell_type": "code",
   "execution_count": 11,
   "metadata": {},
   "outputs": [
    {
     "data": {
      "text/plain": [
       "(1440000, 160000)"
      ]
     },
     "execution_count": 11,
     "metadata": {},
     "output_type": "execute_result"
    }
   ],
   "source": [
    "len(trn_texts), len(val_texts)"
   ]
  },
  {
   "cell_type": "code",
   "execution_count": 12,
   "metadata": {},
   "outputs": [],
   "source": [
    "np.random.seed(42)\n",
    "trn_idx = np.random.permutation(len(trn_texts))\n",
    "val_idx = np.random.permutation(len(val_texts))\n",
    "\n",
    "trn_txts = trn_texts[trn_idx]#[int(len(trn_texts)/2.5):] reduce the size\n",
    "val_txts = val_texts[val_idx]#[int(len(val_texts)/2.5):]\n",
    "\n",
    "trn_lbls = trn_labels[trn_idx]#[int(len(trn_labels)/2.5):]\n",
    "val_lbls = val_labels[val_idx]#[int(len(val_labels)/2.5):]"
   ]
  },
  {
   "cell_type": "code",
   "execution_count": 13,
   "metadata": {},
   "outputs": [
    {
     "data": {
      "text/plain": [
       "(1440000, 160000)"
      ]
     },
     "execution_count": 13,
     "metadata": {},
     "output_type": "execute_result"
    }
   ],
   "source": [
    "len(trn_txts), len(val_txts)"
   ]
  },
  {
   "cell_type": "code",
   "execution_count": 14,
   "metadata": {},
   "outputs": [],
   "source": [
    "df_trn = pd.DataFrame({\"text\":trn_txts, \"labels\":[0]*len(trn_txts)}, columns=col_names)\n",
    "df_val = pd.DataFrame({\"text\":val_txts, \"labels\":[0]*len(val_txts)}, columns=col_names)"
   ]
  },
  {
   "cell_type": "code",
   "execution_count": 15,
   "metadata": {},
   "outputs": [],
   "source": [
    "df_trn.to_csv(LM_PATH/\"train.csv\", header=False, index=False)\n",
    "df_val.to_csv(LM_PATH/\"valid.csv\", header=False, index=False)"
   ]
  },
  {
   "cell_type": "code",
   "execution_count": 16,
   "metadata": {},
   "outputs": [
    {
     "data": {
      "text/html": [
       "<div>\n",
       "<style scoped>\n",
       "    .dataframe tbody tr th:only-of-type {\n",
       "        vertical-align: middle;\n",
       "    }\n",
       "\n",
       "    .dataframe tbody tr th {\n",
       "        vertical-align: top;\n",
       "    }\n",
       "\n",
       "    .dataframe thead th {\n",
       "        text-align: right;\n",
       "    }\n",
       "</style>\n",
       "<table border=\"1\" class=\"dataframe\">\n",
       "  <thead>\n",
       "    <tr style=\"text-align: right;\">\n",
       "      <th></th>\n",
       "      <th>labels</th>\n",
       "      <th>text</th>\n",
       "    </tr>\n",
       "  </thead>\n",
       "  <tbody>\n",
       "    <tr>\n",
       "      <th>0</th>\n",
       "      <td>0</td>\n",
       "      <td>@nzdeany I've given up on pizza - kids would n...</td>\n",
       "    </tr>\n",
       "    <tr>\n",
       "      <th>1</th>\n",
       "      <td>0</td>\n",
       "      <td>â†’_â†’ Mum works  http://bit.ly/zzb8F )</td>\n",
       "    </tr>\n",
       "    <tr>\n",
       "      <th>2</th>\n",
       "      <td>0</td>\n",
       "      <td>Here's one for ya: why would unfollowing peopl...</td>\n",
       "    </tr>\n",
       "    <tr>\n",
       "      <th>3</th>\n",
       "      <td>0</td>\n",
       "      <td>aww Andrew got his circ. done today and got hi...</td>\n",
       "    </tr>\n",
       "    <tr>\n",
       "      <th>4</th>\n",
       "      <td>0</td>\n",
       "      <td>@lisarinna - you are allowed to quit - just ha...</td>\n",
       "    </tr>\n",
       "  </tbody>\n",
       "</table>\n",
       "</div>"
      ],
      "text/plain": [
       "   labels                                               text\n",
       "0       0  @nzdeany I've given up on pizza - kids would n...\n",
       "1       0           â†’_â†’ Mum works  http://bit.ly/zzb8F )\n",
       "2       0  Here's one for ya: why would unfollowing peopl...\n",
       "3       0  aww Andrew got his circ. done today and got hi...\n",
       "4       0  @lisarinna - you are allowed to quit - just ha..."
      ]
     },
     "execution_count": 16,
     "metadata": {},
     "output_type": "execute_result"
    }
   ],
   "source": [
    "df_trn.head()"
   ]
  },
  {
   "cell_type": "markdown",
   "metadata": {},
   "source": [
    "## Tokenization"
   ]
  },
  {
   "cell_type": "code",
   "execution_count": null,
   "metadata": {
    "init_cell": true
   },
   "outputs": [],
   "source": [
    "chunksize = 50000\n",
    "                 \n",
    "def get_texts(df, n_lbls=1):\n",
    "    labels = df.iloc[:,range(n_lbls)].values.astype(np.int64)\n",
    "    texts = df[n_lbls].astype(str)\n",
    "    for i in range(n_lbls+1, len(df.columns)): texts += df[i].astype(str)\n",
    "    texts = list(texts)\n",
    "    \n",
    "    for i, tweet in enumerate(texts):\n",
    "        texts[i] = \" \".join([word for word in tweet.split() if not (\"www.\" in word) and not (\"http\" in word) and not (\"@\" in word)])\n",
    "    \n",
    "    tok = Tokenizer().proc_all_mp(partition_by_cores(texts))\n",
    "    return tok, list(labels)"
   ]
  },
  {
   "cell_type": "code",
   "execution_count": null,
   "metadata": {
    "init_cell": true
   },
   "outputs": [],
   "source": [
    "def get_all(df, n_lbls=1):\n",
    "    tok, labels = [],[]\n",
    "    for i, r in enumerate(df):\n",
    "        print(i)\n",
    "        tok_, labels_ = get_texts(r, n_lbls)\n",
    "        tok += tok_\n",
    "        labels += labels_\n",
    "    return tok, labels"
   ]
  },
  {
   "cell_type": "code",
   "execution_count": 27,
   "metadata": {},
   "outputs": [],
   "source": [
    "df_trn = pd.read_csv(LM_PATH/\"train.csv\", header=None, chunksize=chunksize)\n",
    "df_val = pd.read_csv(LM_PATH/\"valid.csv\", header=None, chunksize=chunksize)"
   ]
  },
  {
   "cell_type": "code",
   "execution_count": 28,
   "metadata": {},
   "outputs": [
    {
     "name": "stdout",
     "output_type": "stream",
     "text": [
      "0\n",
      "1\n",
      "2\n",
      "3\n",
      "4\n",
      "5\n",
      "6\n",
      "7\n",
      "8\n",
      "9\n",
      "10\n",
      "11\n",
      "12\n",
      "13\n",
      "14\n",
      "15\n",
      "16\n",
      "17\n",
      "18\n",
      "19\n",
      "20\n",
      "21\n",
      "22\n",
      "23\n",
      "24\n",
      "25\n",
      "26\n",
      "27\n",
      "28\n",
      "0\n",
      "1\n",
      "2\n",
      "3\n"
     ]
    }
   ],
   "source": [
    "tok_trn, trn_labels = get_all(df_trn, 1)\n",
    "tok_val, val_labels = get_all(df_val, 1)"
   ]
  },
  {
   "cell_type": "code",
   "execution_count": 29,
   "metadata": {},
   "outputs": [],
   "source": [
    "(LM_PATH/\"tmp\").mkdir(exist_ok=True)"
   ]
  },
  {
   "cell_type": "code",
   "execution_count": 30,
   "metadata": {},
   "outputs": [],
   "source": [
    "np.save(LM_PATH/\"tmp\"/\"tok_trn.npy\",tok_trn)\n",
    "np.save(LM_PATH/\"tmp\"/\"tok_val.npy\",tok_val)"
   ]
  },
  {
   "cell_type": "code",
   "execution_count": 31,
   "metadata": {},
   "outputs": [],
   "source": [
    "tok_trn = np.load(LM_PATH/\"tmp\"/\"tok_trn.npy\")\n",
    "tok_val = np.load(LM_PATH/\"tmp\"/\"tok_val.npy\")"
   ]
  },
  {
   "cell_type": "code",
   "execution_count": 32,
   "metadata": {},
   "outputs": [
    {
     "data": {
      "text/plain": [
       "[('i', 886293),\n",
       " ('.', 764103),\n",
       " ('!', 734647),\n",
       " ('to', 500423),\n",
       " ('the', 470571),\n",
       " (',', 432022),\n",
       " ('a', 354775),\n",
       " ('t_up', 295250),\n",
       " ('you', 281082),\n",
       " ('my', 279157),\n",
       " ('it', 272026),\n",
       " ('and', 271766),\n",
       " ('is', 218633),\n",
       " ('for', 196164),\n",
       " ('?', 193900),\n",
       " ('...', 193153),\n",
       " ('in', 192490),\n",
       " ('of', 164588),\n",
       " (\"'s\", 161362),\n",
       " ('that', 157746),\n",
       " ('on', 150917),\n",
       " (\"n't\", 149034),\n",
       " ('me', 144892),\n",
       " ('tk_rep', 143326),\n",
       " ('have', 137960)]"
      ]
     },
     "execution_count": 32,
     "metadata": {},
     "output_type": "execute_result"
    }
   ],
   "source": [
    "freq = Counter(p for o in tok_trn for p in o)\n",
    "freq.most_common(25)"
   ]
  },
  {
   "cell_type": "code",
   "execution_count": 33,
   "metadata": {},
   "outputs": [
    {
     "data": {
      "text/plain": [
       "(321439, 41811)"
      ]
     },
     "execution_count": 33,
     "metadata": {},
     "output_type": "execute_result"
    }
   ],
   "source": [
    "len(freq),len([value for value in freq.values() if value > 6])"
   ]
  },
  {
   "cell_type": "code",
   "execution_count": 34,
   "metadata": {},
   "outputs": [],
   "source": [
    "max_vocab = 50000\n",
    "min_freq = 6"
   ]
  },
  {
   "cell_type": "code",
   "execution_count": 35,
   "metadata": {},
   "outputs": [],
   "source": [
    "itos = [o for o,c in freq.most_common(max_vocab) if c>min_freq]\n",
    "itos.insert(0, \"_unk_\")\n",
    "itos.insert(1, \"_pad_\")"
   ]
  },
  {
   "cell_type": "code",
   "execution_count": 36,
   "metadata": {},
   "outputs": [
    {
     "data": {
      "text/plain": [
       "41813"
      ]
     },
     "execution_count": 36,
     "metadata": {},
     "output_type": "execute_result"
    }
   ],
   "source": [
    "stoi = collections.defaultdict(lambda:0, {v:k for k,v in enumerate(itos)})\n",
    "len(itos)"
   ]
  },
  {
   "cell_type": "code",
   "execution_count": 37,
   "metadata": {},
   "outputs": [],
   "source": [
    "trn_lm = np.array([[stoi[o] for o in p] for p in tok_trn])\n",
    "val_lm = np.array([[stoi[o] for o in p] for p in tok_val])\n",
    "\n",
    "np.save(LM_PATH/\"tmp\"/\"trn_ids_50k.npy\", trn_lm)\n",
    "np.save(LM_PATH/\"tmp\"/\"val_ids_50k.npy\", val_lm)\n",
    "\n",
    "pickle.dump(itos, open(LM_PATH/\"tmp\"/\"itos_50k.pkl\",\"wb\"))"
   ]
  },
  {
   "cell_type": "markdown",
   "metadata": {},
   "source": [
    "## Language Model"
   ]
  },
  {
   "cell_type": "code",
   "execution_count": null,
   "metadata": {
    "init_cell": true
   },
   "outputs": [],
   "source": [
    "trn_lm = np.load(LM_PATH/\"tmp\"/\"trn_ids_50k.npy\")\n",
    "val_lm = np.load(LM_PATH/\"tmp\"/\"val_ids_50k.npy\")\n",
    "itos = pickle.load(open(LM_PATH/\"tmp\"/\"itos_50k.pkl\",\"rb\"))\n",
    "\n",
    "vs = len(itos)\n",
    "vs, len(trn_lm)"
   ]
  },
  {
   "cell_type": "code",
   "execution_count": null,
   "metadata": {
    "init_cell": true
   },
   "outputs": [],
   "source": [
    "em_sz, nh, nl = 400,1150,3\n",
    "\n",
    "bptt=70\n",
    "bs=60 #biggest batch size possible for quicker learning - Figure 6 https://arxiv.org/pdf/1803.09820.pdf\n",
    "wd=1e-6 #https://arxiv.org/pdf/1803.09820.pdf - smaller wd for large learning rates for super convergence Figure 5 b)\n",
    "# Smaller datasets and architectures seem to require larger values for weight decay while larger datasets and\n",
    "# deeper architectures seem to require smaller values. Our hypothesis is that complex data provides\n",
    "# its own regularization and other regularization should be reduced.\n",
    "#opt_fn = partial(optim.Adam, betas=(0.8, 0.99))\n",
    "opt_fn = partial(optim.SGD, momentum=0.9)"
   ]
  },
  {
   "cell_type": "code",
   "execution_count": 23,
   "metadata": {},
   "outputs": [
    {
     "data": {
      "text/plain": [
       "22498795"
      ]
     },
     "execution_count": 23,
     "metadata": {},
     "output_type": "execute_result"
    }
   ],
   "source": [
    "t = np.concatenate(trn_lm)\n",
    "len(t)"
   ]
  },
  {
   "cell_type": "code",
   "execution_count": null,
   "metadata": {
    "init_cell": true
   },
   "outputs": [],
   "source": [
    "trn_dl = LanguageModelLoader(np.concatenate(trn_lm), bs, bptt)\n",
    "val_dl = LanguageModelLoader(np.concatenate(val_lm), bs, bptt)\n",
    "md = LanguageModelData(PATH, 1, vs, trn_dl, val_dl, bs=bs, bptt=bptt)"
   ]
  },
  {
   "cell_type": "code",
   "execution_count": null,
   "metadata": {
    "init_cell": true
   },
   "outputs": [],
   "source": [
    "md.trn_dl.data = md.trn_dl.data.long()\n",
    "md.val_dl.data = md.val_dl.data.long()"
   ]
  },
  {
   "cell_type": "code",
   "execution_count": null,
   "metadata": {
    "init_cell": true
   },
   "outputs": [],
   "source": [
    "drops = np.array([0.25, 0.1, 0.2, 0.02, 0.15], dtype=\"f\")*0.1"
   ]
  },
  {
   "cell_type": "code",
   "execution_count": null,
   "metadata": {
    "init_cell": true
   },
   "outputs": [],
   "source": [
    "learner = md.get_model(opt_fn, em_sz, nh, nl,\n",
    "                      dropouti=drops[0], dropout=drops[1], wdrop=drops[2], dropoute=drops[3], dropouth=drops[4])\n",
    "\n",
    "learner.metrics = [accuracy]\n",
    "learner.clip= 0.12\n",
    "learner.unfreeze()\n",
    "learner.get_layer_groups()"
   ]
  },
  {
   "cell_type": "code",
   "execution_count": 14,
   "metadata": {},
   "outputs": [
    {
     "data": {
      "application/vnd.jupyter.widget-view+json": {
       "model_id": "022b383cc9fa4b68b4838571f9542905",
       "version_major": 2,
       "version_minor": 0
      },
      "text/plain": [
       "HBox(children=(IntProgress(value=0, description='Epoch', max=1), HTML(value='')))"
      ]
     },
     "metadata": {},
     "output_type": "display_data"
    },
    {
     "name": "stdout",
     "output_type": "stream",
     "text": [
      "  9%|██████▎                                                             | 500/5355 [02:30<23:26,  3.45it/s, loss=7.18]"
     ]
    },
    {
     "data": {
      "image/png": "[encoded data removed]",
      "text/plain": [
       "<Figure size 432x864 with 3 Axes>"
      ]
     },
     "metadata": {},
     "output_type": "display_data"
    }
   ],
   "source": [
    "learner.lr_find2(num_it=500, end_lr=20)\n",
    "learner.sched.plot()"
   ]
  },
  {
   "cell_type": "code",
   "execution_count": 27,
   "metadata": {},
   "outputs": [],
   "source": [
    "lr = 10"
   ]
  },
  {
   "cell_type": "code",
   "execution_count": 28,
   "metadata": {},
   "outputs": [
    {
     "data": {
      "application/vnd.jupyter.widget-view+json": {
       "model_id": "34748b772dec4dc192349e38881a07ba",
       "version_major": 2,
       "version_minor": 0
      },
      "text/plain": [
       "HBox(children=(IntProgress(value=0, description='Epoch', max=10), HTML(value='')))"
      ]
     },
     "metadata": {},
     "output_type": "display_data"
    },
    {
     "name": "stdout",
     "output_type": "stream",
     "text": [
      "epoch      trn_loss   val_loss   accuracy                                                                              \n",
      "    0      4.912822   4.852459   0.200807  \n",
      "    1      4.680366   4.638419   0.218468                                                                              \n",
      "    2      4.594694   4.562883   0.224823                                                                              \n",
      "    3      4.514833   4.54139    0.227381                                                                              \n",
      "    4      4.519998   4.527254   0.227716                                                                              \n",
      "    5      4.450755   4.506844   0.230036                                                                              \n",
      "    6      4.376285   4.495545   0.232021                                                                              \n",
      "    7      4.330055   4.478956   0.233783                                                                              \n",
      "    8      4.279809   4.459458   0.237021                                                                              \n",
      "    9      4.155968   4.454296   0.239324                                                                              \n",
      "\n"
     ]
    },
    {
     "data": {
      "text/plain": [
       "[4.454295602552653, 0.23932402076573395]"
      ]
     },
     "execution_count": 28,
     "metadata": {},
     "output_type": "execute_result"
    }
   ],
   "source": [
    "learner.fit(lr, 1,use_clr_beta=(10,10,0.95,0.85), cycle_len=10, best_save_name=\"best_lm\")"
   ]
  },
  {
   "cell_type": "code",
   "execution_count": 29,
   "metadata": {},
   "outputs": [
    {
     "data": {
      "text/plain": [
       "(None, None)"
      ]
     },
     "execution_count": 29,
     "metadata": {},
     "output_type": "execute_result"
    },
    {
     "data": {
      "image/png": "[encoded data removed]",
      "text/plain": [
       "<Figure size 864x288 with 2 Axes>"
      ]
     },
     "metadata": {},
     "output_type": "display_data"
    }
   ],
   "source": [
    "learner.sched.plot_lr(), learner.sched.plot_loss()"
   ]
  },
  {
   "cell_type": "code",
   "execution_count": 30,
   "metadata": {},
   "outputs": [],
   "source": [
    "learner.save(\"lm0_fit_50k_bs70_clrB_noQRNN\")\n",
    "learner.save_cycle(\"lm0_fit_50k_bs70_clrB_noQRNN_cyc\", 9)\n",
    "learner.save_encoder(\"lm0_fit_50k_bs70_clrB_noQRNN_enc\")\n"
   ]
  },
  {
   "cell_type": "code",
   "execution_count": 31,
   "metadata": {},
   "outputs": [
    {
     "data": {
      "image/png": "[encoded data removed]",
      "text/plain": [
       "<Figure size 432x288 with 1 Axes>"
      ]
     },
     "metadata": {},
     "output_type": "display_data"
    }
   ],
   "source": [
    "learner.sched.plot_loss()"
   ]
  },
  {
   "cell_type": "code",
   "execution_count": 19,
   "metadata": {},
   "outputs": [
    {
     "data": {
      "image/png": "[encoded data removed]",
      "text/plain": [
       "<Figure size 864x288 with 2 Axes>"
      ]
     },
     "metadata": {},
     "output_type": "display_data"
    }
   ],
   "source": [
    "learner.sched.plot_lr()"
   ]
  },
  {
   "cell_type": "code",
   "execution_count": 32,
   "metadata": {},
   "outputs": [
    {
     "data": {
      "text/plain": [
       "63.434000298123344"
      ]
     },
     "execution_count": 32,
     "metadata": {},
     "output_type": "execute_result"
    }
   ],
   "source": [
    "np.exp(4.15)"
   ]
  },
  {
   "cell_type": "code",
   "execution_count": 39,
   "metadata": {},
   "outputs": [],
   "source": [
    "learner.load(\"lm0_fit_50k_bs70_clrB_noQRNN\")\n",
    "learner.load_cycle(\"lm0_fit_50k_bs70_clrB_noQRNN_cyc\", 9)\n",
    "learner.load_encoder(\"lm0_fit_50k_bs70_clrB_noQRNN_enc\")\n"
   ]
  },
  {
   "cell_type": "code",
   "execution_count": 40,
   "metadata": {},
   "outputs": [
    {
     "data": {
      "application/vnd.jupyter.widget-view+json": {
       "model_id": "b54b4e71016841398f2dfefd741ed9ae",
       "version_major": 2,
       "version_minor": 0
      },
      "text/plain": [
       "HBox(children=(IntProgress(value=0, description='Epoch', max=1), HTML(value='')))"
      ]
     },
     "metadata": {},
     "output_type": "display_data"
    },
    {
     "name": "stdout",
     "output_type": "stream",
     "text": [
      "  9%|██████▎                                                             | 500/5355 [02:32<26:58,  3.00it/s, loss=4.19]"
     ]
    },
    {
     "data": {
      "image/png": "[encoded data removed]",
      "text/plain": [
       "<Figure size 432x864 with 3 Axes>"
      ]
     },
     "metadata": {},
     "output_type": "display_data"
    }
   ],
   "source": [
    "learner.lr_find2(num_it=500, end_lr=20)\n",
    "learner.sched.plot()"
   ]
  },
  {
   "cell_type": "code",
   "execution_count": 41,
   "metadata": {},
   "outputs": [
    {
     "data": {
      "application/vnd.jupyter.widget-view+json": {
       "model_id": "88f26ea1daae4dc88b82dc46624b9029",
       "version_major": 2,
       "version_minor": 0
      },
      "text/plain": [
       "HBox(children=(IntProgress(value=0, description='Epoch', max=5), HTML(value='')))"
      ]
     },
     "metadata": {},
     "output_type": "display_data"
    },
    {
     "name": "stdout",
     "output_type": "stream",
     "text": [
      "epoch      trn_loss   val_loss   accuracy                                                                              \n",
      "    0      4.130517   4.472025   0.236824  \n",
      "    1      4.187643   4.46921    0.236924                                                                              \n",
      "    2      4.124135   4.486281   0.235603                                                                              \n",
      "    3      4.056145   4.501246   0.235116                                                                              \n",
      "    4      4.017041   4.496525   0.236268                                                                              \n"
     ]
    },
    {
     "data": {
      "text/plain": [
       "[4.496524851240498, 0.23626774505728804]"
      ]
     },
     "execution_count": 41,
     "metadata": {},
     "output_type": "execute_result"
    }
   ],
   "source": [
    "learner.fit(2.5, 1,use_clr_beta=(10,10,0.95,0.85), cycle_len=5, best_save_name=\"best_lm\")"
   ]
  },
  {
   "cell_type": "code",
   "execution_count": 14,
   "metadata": {},
   "outputs": [
    {
     "data": {
      "text/plain": [
       "55.1468705634638"
      ]
     },
     "execution_count": 14,
     "metadata": {},
     "output_type": "execute_result"
    }
   ],
   "source": [
    "math.exp(4.01)"
   ]
  },
  {
   "cell_type": "markdown",
   "metadata": {},
   "source": [
    "## Evaluate "
   ]
  },
  {
   "cell_type": "code",
   "execution_count": 33,
   "metadata": {},
   "outputs": [],
   "source": [
    "#from https://github.com/cedrickchee/data-science-notebooks/blob/master/notebooks/deep_learning/ULMFiT/malay_language_model.ipynb"
   ]
  },
  {
   "cell_type": "code",
   "execution_count": 42,
   "metadata": {},
   "outputs": [],
   "source": [
    "m = learner.model # initialized model\n",
    "m.eval() # ensure you switch your model to inference mode\n",
    "m[0].bs = 1 # set batch size to 1"
   ]
  },
  {
   "cell_type": "code",
   "execution_count": 15,
   "metadata": {},
   "outputs": [
    {
     "data": {
      "text/plain": [
       "41813"
      ]
     },
     "execution_count": 15,
     "metadata": {},
     "output_type": "execute_result"
    }
   ],
   "source": [
    "# Load the index-word mapping from the picked file on disk to help us convert the indexes to words.\n",
    "itos = pickle.load(open(LM_PATH / \"tmp\" / \"itos_50k.pkl\", \"rb\"))\n",
    "\n",
    "# String to index lambda function\n",
    "stoi = collections.defaultdict(lambda: 0, {v:k for k, v in enumerate(itos)})\n",
    "len(itos)"
   ]
  },
  {
   "cell_type": "code",
   "execution_count": 44,
   "metadata": {},
   "outputs": [],
   "source": [
    "# Utility functions\n",
    "from random import randint\n",
    "\n",
    "def gen_text(ss, topk):\n",
    "    s = ss.strip().split(\" \")\n",
    "    t = LongTensor([stoi[i] for i in s]).view(-1, 1).cuda()\n",
    "    t = Variable(t, volatile=False)\n",
    "    m.reset()\n",
    "    pred, *_ = m(t)\n",
    "    pred_i = torch.topk(pred[-1], topk)[1]\n",
    "\n",
    "    return [itos[o] for o in to_np(pred_i)]\n",
    "\n",
    "def generate_sentences(ss, nb_words):\n",
    "    result = []\n",
    "    s = ss.strip().split(\" \")\n",
    "    t = LongTensor([stoi[i] for i in s]).view(-1, 1).cuda()\n",
    "    t = Variable(t, volatile=False)\n",
    "    m.reset()\n",
    "    pred, *_ = m(t)\n",
    "    \n",
    "    #for i in range(nb_words):\n",
    "    word = \"\"\n",
    "    while (word != \".\" and word !=\"...\"):\n",
    "        pred_i = pred[-1].topk(3)[1]\n",
    "        idx = randint(1,len(pred_i)-1)\n",
    "        pred_i = pred_i[idx] #if pred_i.data[0] < 1 else pred_i[1]\n",
    "        if pred_i.data[0] != 0:\n",
    "            word = itos[pred_i.data[0]]\n",
    "            result.append(word)\n",
    "            pred, *_ = m((pred_i[0].unsqueeze(0).expand(1,2)))\n",
    "    \n",
    "    result = re.sub('\\s+([.,])', r'\\1', \"{} {}\".format(ss, \" \".join(result).rstrip()))\n",
    "\n",
    "    return(result)"
   ]
  },
  {
   "cell_type": "code",
   "execution_count": 45,
   "metadata": {},
   "outputs": [],
   "source": [
    "strings = [\n",
    "    \"Shit\",\n",
    "    \"I am broke\",\n",
    "    \"For god\",\n",
    "    \"a clown\",\n",
    "    \"My sister\",\n",
    "    \"Hio\",\n",
    "    \"My dear\"\n",
    "]"
   ]
  },
  {
   "cell_type": "code",
   "execution_count": 46,
   "metadata": {},
   "outputs": [
    {
     "name": "stdout",
     "output_type": "stream",
     "text": [
      "Shit... \n",
      "shit, but it is not possible.\n",
      "\n",
      "I am broke... \n",
      "i am broke and we 'll see if we get a chance.\n",
      "\n",
      "For god... \n",
      "for god 's name is on it ! it was n't a problem.\n",
      "\n",
      "a clown... \n",
      "a clown ! i am lost ! i have n't seen the movie in a l...\n",
      "\n",
      "My sister... \n",
      "my sister and we 'll see how that turns off ! i am lost ! pls pls please please ? ? i 'm sorry to tell anyone who 's still not there...\n",
      "\n",
      "Hio... \n",
      "hio i m gon miss the t_up bgt awards i have to get my wisdom braces removed in a month ! and it hurts so much.\n",
      "\n",
      "My dear... \n",
      "my dear friend just got back to my hotel ! had to get my dad a father - day birthday cake ! he was the first one in the history ! i am t_up sooo happy that you had an amazing night, but it was a long night i m going back 2 bed.\n",
      "\n"
     ]
    }
   ],
   "source": [
    "for s in strings:\n",
    "    print(f\"{s}... \\n{generate_sentences(s.lower(), 25)}\\n\")"
   ]
  },
  {
   "cell_type": "code",
   "execution_count": null,
   "metadata": {},
   "outputs": [],
   "source": []
  }
 ],
 "metadata": {
  "celltoolbar": "Initialization Cell",
  "kernelspec": {
   "display_name": "Python 3",
   "language": "python",
   "name": "python3"
  },
  "language_info": {
   "codemirror_mode": {
    "name": "ipython",
    "version": 3
   },
   "file_extension": ".py",
   "mimetype": "text/x-python",
   "name": "python",
   "nbconvert_exporter": "python",
   "pygments_lexer": "ipython3",
   "version": "3.6.5"
  },
  "varInspector": {
   "cols": {
    "lenName": 16,
    "lenType": 16,
    "lenVar": 40
   },
   "kernels_config": {
    "python": {
     "delete_cmd_postfix": "",
     "delete_cmd_prefix": "del ",
     "library": "var_list.py",
     "varRefreshCmd": "print(var_dic_list())"
    },
    "r": {
     "delete_cmd_postfix": ") ",
     "delete_cmd_prefix": "rm(",
     "library": "var_list.r",
     "varRefreshCmd": "cat(var_dic_list()) "
    }
   },
   "types_to_exclude": [
    "module",
    "function",
    "builtin_function_or_method",
    "instance",
    "_Feature"
   ],
   "window_display": false
  }
 },
 "nbformat": 4,
 "nbformat_minor": 2
}
