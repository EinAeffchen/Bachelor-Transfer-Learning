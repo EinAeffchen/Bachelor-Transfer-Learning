{
 "cells": [
  {
   "cell_type": "code",
   "execution_count": 1,
   "metadata": {
    "init_cell": true
   },
   "outputs": [
    {
     "name": "stderr",
     "output_type": "stream",
     "text": [
      "C:\\Users\\leond\\Anaconda3\\lib\\site-packages\\sklearn\\ensemble\\weight_boosting.py:29: DeprecationWarning: numpy.core.umath_tests is an internal NumPy module and should not be imported. It will be removed in a future NumPy release.\n",
      "  from numpy.core.umath_tests import inner1d\n"
     ]
    }
   ],
   "source": [
    "#Necessary\n",
    "from fastai.fastai.text import *\n",
    "from sklearn.metrics import confusion_matrix, f1_score, classification_report\n",
    "\n",
    "import html\n",
    "import csv"
   ]
  },
  {
   "cell_type": "code",
   "execution_count": 2,
   "metadata": {
    "init_cell": true
   },
   "outputs": [],
   "source": [
    "#Necessary\n",
    "BOS = \"xbos \" #beginning-of-sentence tag\n",
    "CLASSES = [\"hate\", \"offensive\",\"neither\"]\n",
    "TAG = \"xnametag\"\n",
    "EMOJI = \"xemojitag \"\n"
   ]
  },
  {
   "cell_type": "code",
   "execution_count": 3,
   "metadata": {
    "init_cell": true
   },
   "outputs": [],
   "source": [
    "#Necessary\n",
    "PATH=Path(\"HateSpeech/\")\n",
    "CLAS_PATH = Path(\"emo_clas/\")\n",
    "CLAS_PATH.mkdir(exist_ok=True)\n",
    "\n",
    "LM_PATH = Path(\"emo_lm/\")\n",
    "LM_PATH.mkdir(exist_ok=True)"
   ]
  },
  {
   "cell_type": "code",
   "execution_count": 4,
   "metadata": {
    "init_cell": true
   },
   "outputs": [
    {
     "name": "stdout",
     "output_type": "stream",
     "text": [
      "24780\n"
     ]
    }
   ],
   "source": [
    "#Necessary\n",
    "#https://arxiv.org/abs/1705.09899\n",
    "def get_texts(path):\n",
    "    texts, labels, data = [],[],[]\n",
    "    with open(path, \"r\", encoding=\"utf-8\") as dataset:\n",
    "        reader = csv.reader(dataset, delimiter=\",\")\n",
    "        next(reader, None)\n",
    "        data = list(reader)\n",
    "    dataset.close()\n",
    "    for line in data:\n",
    "        texts.append(BOS+line[-1])\n",
    "        labels.append(line[-2])\n",
    "    return np.array(texts), np.array(labels)\n",
    "\n",
    "trn_texts, trn_labels = get_texts(PATH/\"labeled_data.csv\")\n",
    "part10k = int(len(trn_texts)/10)\n",
    "print(part10k*10)\n",
    "tst_texts, tst_labels = trn_texts[:part10k], trn_labels[:part10k]\n",
    "val_texts, val_labels = trn_texts[part10k:2*part10k], trn_labels[part10k:2*part10k]\n",
    "trn_texts, trn_labels = trn_texts[part10k*2:], trn_labels[part10k*2:]"
   ]
  },
  {
   "cell_type": "code",
   "execution_count": 258,
   "metadata": {},
   "outputs": [
    {
     "data": {
      "text/plain": [
       "(19827, 2478, 2478, 24783)"
      ]
     },
     "execution_count": 258,
     "metadata": {},
     "output_type": "execute_result"
    }
   ],
   "source": [
    "len(trn_texts), len(val_texts), len(tst_texts), len(trn_texts)+len(val_texts)+len(tst_texts)"
   ]
  },
  {
   "cell_type": "code",
   "execution_count": 259,
   "metadata": {},
   "outputs": [
    {
     "data": {
      "text/plain": [
       "(array(['xbos @TheRealCVL and @CoryHolmes24 are faggots. Kbye.',\n",
       "        'xbos @TheRealCortlan All the thirsty hoes. Lol',\n",
       "        \"xbos @TheRealDiamondJ I'm the type to put that bitch in a river so you can gtf out my locations lol\",\n",
       "        'xbos @TheRealJRSmith And its people like you that give us all a bad name, you are a disgusting piece of shit of a person a nigger is what you are',\n",
       "        'xbos @TheRealJohn_Doe dude fucking mono sucks and my bed is trash',\n",
       "        'xbos @TheRealJohn_Doe thats nate dumbass we all just mock him',\n",
       "        'xbos @TheRealKevinMcB Sauerkraut Saul is a punk ass bitch',\n",
       "        'xbos @TheRealOweifie You do it to us so payback is a bitch. hahaha &lt;3 happy valentines day though.',\n",
       "        'xbos @TheRealOweifie good one you fucking bitch ass',\n",
       "        \"xbos @TheRealSaigon What are you gonna do? I'ma chase you out the club, like mobb deep did to you, pussy.\"],\n",
       "       dtype='<U759'),\n",
       " array(['0', '1', '1', '0', '1', '1', '1', '1', '1', '1'], dtype='<U1'))"
      ]
     },
     "execution_count": 259,
     "metadata": {},
     "output_type": "execute_result"
    }
   ],
   "source": [
    "trn_texts[:10], trn_labels[:10]"
   ]
  },
  {
   "cell_type": "code",
   "execution_count": 5,
   "metadata": {
    "init_cell": true
   },
   "outputs": [],
   "source": [
    "#Necessary\n",
    "col_names = [\"labels\", \"text\"]"
   ]
  },
  {
   "cell_type": "code",
   "execution_count": 6,
   "metadata": {
    "init_cell": true
   },
   "outputs": [],
   "source": [
    "np.random.seed(42)\n",
    "trn_idx = np.random.permutation(len(trn_texts))\n",
    "val_idx = np.random.permutation(len(val_texts))\n",
    "tst_idx = np.random.permutation(len(tst_texts))"
   ]
  },
  {
   "cell_type": "code",
   "execution_count": 7,
   "metadata": {
    "init_cell": true
   },
   "outputs": [],
   "source": [
    "trn_texts = trn_texts[trn_idx]\n",
    "val_texts = val_texts[val_idx]\n",
    "tst_texts = val_texts[tst_idx]\n",
    "\n",
    "trn_labels = trn_labels[trn_idx]\n",
    "val_labels = val_labels[val_idx]\n",
    "tst_labels = val_labels[tst_idx]"
   ]
  },
  {
   "cell_type": "code",
   "execution_count": 8,
   "metadata": {
    "init_cell": true
   },
   "outputs": [
    {
     "data": {
      "text/plain": [
       "(array([\"xbos @Kevin_McAdams Because Ian's retarded\",\n",
       "        'xbos @Rugarickrockers Ima make you a sick entrance song my nig',\n",
       "        'xbos @GossipCop jay-z and bey they will never be..jus trash',\n",
       "        \"xbos @FukknTyler nigga I talk shit period this ain't nun new white bitch we go threw this every damn day &#128514;&#128514;\",\n",
       "        'xbos @LilReese300 what are you doing up right now Tavares. Kickin my bitch to curb for being too dramatic again?',\n",
       "        \"xbos @CrackerJhak Because you're a fag\",\n",
       "        'xbos @Stvtch_ @IAMBJRAPS @cheffin_curry @GirlTimeUSA @LILBTHEBASEDGOD bitch you look like a shamu go back to seaword',\n",
       "        \"xbos @Honey_GotBunns bitch you know you won't this &#128526;&#128131;&#128588;&#128514;\",\n",
       "        'xbos @NYRKelsMads That pup was like, this bitch is AWESOME! Can I go home with YOU?',\n",
       "        'xbos @Pepper_Redbone @Yankees @Mets I miss the pizza! The passion.'], dtype='<U759'),\n",
       " array(['0', '1', '2', '1', '1', '0', '1', '1', '1', '2'], dtype='<U1'))"
      ]
     },
     "execution_count": 8,
     "metadata": {},
     "output_type": "execute_result"
    }
   ],
   "source": [
    "tst_texts[:10], tst_labels[:10]"
   ]
  },
  {
   "cell_type": "code",
   "execution_count": 9,
   "metadata": {
    "init_cell": true
   },
   "outputs": [],
   "source": [
    "#Necessary\n",
    "df_trn = pd.DataFrame({\"text\":trn_texts, \"labels\":trn_labels}, columns=col_names)\n",
    "df_val = pd.DataFrame({\"text\":val_texts, \"labels\":val_labels}, columns=col_names)\n",
    "df_tst = pd.DataFrame({\"text\":tst_texts, \"labels\":tst_labels}, columns=col_names)"
   ]
  },
  {
   "cell_type": "markdown",
   "metadata": {},
   "source": [
    "Get Weights for class imbalance"
   ]
  },
  {
   "cell_type": "code",
   "execution_count": 10,
   "metadata": {
    "init_cell": true
   },
   "outputs": [
    {
     "data": {
      "text/plain": [
       "(array([0.08885, 0.73582, 0.17533]),\n",
       " [0.10694108151735271, 0.7138821630347054, 0.1791767554479419])"
      ]
     },
     "execution_count": 10,
     "metadata": {},
     "output_type": "execute_result"
    }
   ],
   "source": [
    "#Necessary\n",
    "trn_labelcounts = df_trn.groupby([\"labels\"]).size()\n",
    "val_labelcounts = df_val.groupby([\"labels\"]).size()\n",
    "tst_labelcounts = df_tst.groupby([\"labels\"]).size()\n",
    "trn_label_sum = len(df_trn[\"labels\"])\n",
    "val_label_sum = len(df_val[\"labels\"])\n",
    "tst_label_sum = len(df_tst[\"labels\"])\n",
    "trn_weights = [count/trn_label_sum for count in trn_labelcounts]\n",
    "val_weights = [count/val_label_sum for count in val_labelcounts]\n",
    "tst_weights = [count/tst_label_sum for count in tst_labelcounts]\n",
    "avg_weights = (np.array(trn_weights)+np.array(val_weights)+np.array(tst_weights))/3\n",
    "avg_weights, val_weights"
   ]
  },
  {
   "cell_type": "code",
   "execution_count": 11,
   "metadata": {
    "init_cell": true
   },
   "outputs": [
    {
     "data": {
      "text/plain": [
       "([14.807471264367816, 1.0, 4.65072202166065],\n",
       " [8.28197751536386, 1.0, 4.196660110215248])"
      ]
     },
     "execution_count": 11,
     "metadata": {},
     "output_type": "execute_result"
    }
   ],
   "source": [
    "#Necessary\n",
    "rtd_avg_weights = [max(avg_weights)/value for value in avg_weights]\n",
    "rtd_trn_weights = [max(trn_weights)/value for value in trn_weights]\n",
    "rtd_trn_weights, rtd_avg_weights"
   ]
  },
  {
   "cell_type": "code",
   "execution_count": 267,
   "metadata": {},
   "outputs": [],
   "source": [
    "df_trn.to_csv(CLAS_PATH/\"train.csv\", header=False, index=False)\n",
    "df_val.to_csv(CLAS_PATH/\"test.csv\", header=False, index=False)\n",
    "df_tst.to_csv(CLAS_PATH/\"tst.csv\", header=False, index=False)\n",
    "\n",
    "(CLAS_PATH/\"classes.txt\").open(\"w\").writelines(f\"{o}\\n\" for o in CLASSES)"
   ]
  },
  {
   "cell_type": "code",
   "execution_count": 268,
   "metadata": {},
   "outputs": [
    {
     "data": {
      "text/html": [
       "<div>\n",
       "<style scoped>\n",
       "    .dataframe tbody tr th:only-of-type {\n",
       "        vertical-align: middle;\n",
       "    }\n",
       "\n",
       "    .dataframe tbody tr th {\n",
       "        vertical-align: top;\n",
       "    }\n",
       "\n",
       "    .dataframe thead th {\n",
       "        text-align: right;\n",
       "    }\n",
       "</style>\n",
       "<table border=\"1\" class=\"dataframe\">\n",
       "  <thead>\n",
       "    <tr style=\"text-align: right;\">\n",
       "      <th></th>\n",
       "      <th>labels</th>\n",
       "      <th>text</th>\n",
       "    </tr>\n",
       "  </thead>\n",
       "  <tbody>\n",
       "    <tr>\n",
       "      <th>0</th>\n",
       "      <td>1</td>\n",
       "      <td>xbos Heard some good news today and all I gott...</td>\n",
       "    </tr>\n",
       "    <tr>\n",
       "      <th>1</th>\n",
       "      <td>1</td>\n",
       "      <td>xbos That's the kind of bitch I hate fucking with</td>\n",
       "    </tr>\n",
       "    <tr>\n",
       "      <th>2</th>\n",
       "      <td>1</td>\n",
       "      <td>xbos If she hates being kissed in the mouth sh...</td>\n",
       "    </tr>\n",
       "    <tr>\n",
       "      <th>3</th>\n",
       "      <td>1</td>\n",
       "      <td>xbos RT @phishlicia: Ocho is approaching bitches</td>\n",
       "    </tr>\n",
       "    <tr>\n",
       "      <th>4</th>\n",
       "      <td>1</td>\n",
       "      <td>xbos Brooo Chinese sounds goooood then a hoe r...</td>\n",
       "    </tr>\n",
       "  </tbody>\n",
       "</table>\n",
       "</div>"
      ],
      "text/plain": [
       "  labels                                               text\n",
       "0      1  xbos Heard some good news today and all I gott...\n",
       "1      1  xbos That's the kind of bitch I hate fucking with\n",
       "2      1  xbos If she hates being kissed in the mouth sh...\n",
       "3      1   xbos RT @phishlicia: Ocho is approaching bitches\n",
       "4      1  xbos Brooo Chinese sounds goooood then a hoe r..."
      ]
     },
     "execution_count": 268,
     "metadata": {},
     "output_type": "execute_result"
    }
   ],
   "source": [
    "df_trn.head()"
   ]
  },
  {
   "cell_type": "code",
   "execution_count": 12,
   "metadata": {
    "init_cell": true
   },
   "outputs": [
    {
     "data": {
      "text/plain": [
       "['hate\\n', 'offensive\\n', 'neither\\n']"
      ]
     },
     "execution_count": 12,
     "metadata": {},
     "output_type": "execute_result"
    }
   ],
   "source": [
    "(CLAS_PATH/\"classes.txt\").open().readlines()"
   ]
  },
  {
   "cell_type": "code",
   "execution_count": 13,
   "metadata": {
    "init_cell": true
   },
   "outputs": [],
   "source": [
    "df_trn = pd.DataFrame({\"text\":trn_texts, \"labels\":[0]*len(trn_texts)}, columns=col_names)\n",
    "df_val = pd.DataFrame({\"text\":val_texts, \"labels\":[0]*len(val_texts)}, columns=col_names)\n",
    "df_tst = pd.DataFrame({\"text\":tst_texts, \"labels\":[0]*len(tst_texts)}, columns=col_names)\n",
    "\n",
    "\n",
    "df_trn.to_csv(LM_PATH/\"train.csv\", header=False, index=False)\n",
    "df_val.to_csv(LM_PATH/\"test.csv\", header=False, index=False)\n",
    "df_tst.to_csv(LM_PATH/\"tst.csv\", header=False, index=False)"
   ]
  },
  {
   "cell_type": "markdown",
   "metadata": {},
   "source": [
    "Tokenization"
   ]
  },
  {
   "cell_type": "code",
   "execution_count": 14,
   "metadata": {
    "init_cell": true
   },
   "outputs": [],
   "source": [
    "def fixup(x):\n",
    "    x = x.split()\n",
    "    for i, word in enumerate(x):\n",
    "        if \"t.co\" in word:\n",
    "            del x[i]\n",
    "        elif \"@\" in word:\n",
    "            #x[i] = TAG\n",
    "            del x[i]\n",
    "        elif \"&#\" in word:\n",
    "            \"\"\"word = word.replace(\"&#\", EMOJI)\n",
    "            words = word.split(\";\")\n",
    "            x[i] = \" \".join(words)\"\"\"\n",
    "            change = word.split(\"&#\")\n",
    "            x[i] = \" \".join([word for thing in change for word in thing.split(\";\") if not word.isnumeric()])\n",
    "    if x[1] == \"RT\":\n",
    "        del x[1]\n",
    "        del x[1]\n",
    "    return \" \".join(x)"
   ]
  },
  {
   "cell_type": "code",
   "execution_count": 15,
   "metadata": {
    "init_cell": true
   },
   "outputs": [],
   "source": [
    "def get_texts(df, n_lbls=1):\n",
    "    labels = df.iloc[:,range(n_lbls)].values.astype(np.int64)\n",
    "    texts = df[n_lbls].astype(str)\n",
    "    for i in range(n_lbls+1, len(df.columns)): texts += df[i].astype(str)\n",
    "    texts = list(texts.apply(fixup).values)\n",
    "\n",
    "    tok = Tokenizer().proc_all_mp(partition_by_cores(texts))\n",
    "    return tok, list(labels)"
   ]
  },
  {
   "cell_type": "code",
   "execution_count": 16,
   "metadata": {
    "init_cell": true
   },
   "outputs": [],
   "source": [
    "def get_all(df, n_lbls):\n",
    "    tok, labels = [], []\n",
    "    for i, r in enumerate(df):\n",
    "        print(i)\n",
    "        tok_, labels_ = get_texts(r, n_lbls)\n",
    "        tok += tok_;\n",
    "        labels += labels_\n",
    "    return tok, labels"
   ]
  },
  {
   "cell_type": "code",
   "execution_count": 17,
   "metadata": {
    "init_cell": true
   },
   "outputs": [],
   "source": [
    "chunksize = 10000\n",
    "df_trn = pd.read_csv(LM_PATH/\"train.csv\", header=None, chunksize=chunksize)\n",
    "df_val = pd.read_csv(LM_PATH/\"test.csv\", header=None, chunksize=chunksize)\n",
    "df_tst = pd.read_csv(LM_PATH/\"tst.csv\", header=None, chunksize=chunksize)"
   ]
  },
  {
   "cell_type": "code",
   "execution_count": 112,
   "metadata": {},
   "outputs": [
    {
     "name": "stdout",
     "output_type": "stream",
     "text": [
      "0\n",
      "1\n",
      "0\n",
      "0\n"
     ]
    }
   ],
   "source": [
    "tok_trn, trn_labels = get_all(df_trn, 1)\n",
    "tok_val, val_labels = get_all(df_val, 1)\n",
    "tok_tst, tst_labels = get_all(df_tst, 1)"
   ]
  },
  {
   "cell_type": "code",
   "execution_count": 113,
   "metadata": {},
   "outputs": [],
   "source": [
    "(LM_PATH/\"tmp\").mkdir(exist_ok=True)"
   ]
  },
  {
   "cell_type": "code",
   "execution_count": 114,
   "metadata": {},
   "outputs": [],
   "source": [
    "np.save(LM_PATH/\"tmp\"/\"tok_trn.npy\",tok_trn)\n",
    "np.save(LM_PATH/\"tmp\"/\"tok_val.npy\",tok_val)\n",
    "np.save(LM_PATH/\"tmp\"/\"tok_tst.npy\",tok_tst)"
   ]
  },
  {
   "cell_type": "code",
   "execution_count": 18,
   "metadata": {
    "init_cell": true
   },
   "outputs": [],
   "source": [
    "tok_trn = np.load(LM_PATH/\"tmp\"/\"tok_trn.npy\")\n",
    "tok_val = np.load(LM_PATH/\"tmp\"/\"tok_val.npy\")\n",
    "tok_tst = np.load(LM_PATH/\"tmp\"/\"tok_tst.npy\")"
   ]
  },
  {
   "cell_type": "code",
   "execution_count": 19,
   "metadata": {
    "init_cell": true,
    "scrolled": true
   },
   "outputs": [
    {
     "data": {
      "text/plain": [
       "[('xbos', 19827),\n",
       " ('.', 8411),\n",
       " ('a', 7922),\n",
       " ('i', 7807),\n",
       " ('bitch', 6719),\n",
       " ('the', 5811),\n",
       " ('you', 5173),\n",
       " (',', 4611),\n",
       " ('to', 4421),\n",
       " ('that', 3274),\n",
       " ('and', 3242),\n",
       " (\"n't\", 3002),\n",
       " ('my', 2891),\n",
       " ('#', 2814),\n",
       " ('\"', 2777),\n",
       " ('!', 2682),\n",
       " ('bitches', 2630),\n",
       " ('t_up', 2531),\n",
       " ('in', 2505),\n",
       " ('is', 2455),\n",
       " ('like', 2275),\n",
       " ('me', 2266),\n",
       " ('of', 2094),\n",
       " ('it', 2083),\n",
       " ('on', 2044)]"
      ]
     },
     "execution_count": 19,
     "metadata": {},
     "output_type": "execute_result"
    }
   ],
   "source": [
    "freq = Counter(p for o in tok_trn for p in o) #o = review (list of tokenized sentences), p = sentence\n",
    "freq.most_common(25)"
   ]
  },
  {
   "cell_type": "code",
   "execution_count": 117,
   "metadata": {},
   "outputs": [
    {
     "data": {
      "text/plain": [
       "19247"
      ]
     },
     "execution_count": 117,
     "metadata": {},
     "output_type": "execute_result"
    }
   ],
   "source": [
    "len(freq)"
   ]
  },
  {
   "cell_type": "code",
   "execution_count": 20,
   "metadata": {
    "init_cell": true
   },
   "outputs": [],
   "source": [
    "max_vocab = 5000\n",
    "min_freq = 5"
   ]
  },
  {
   "cell_type": "code",
   "execution_count": 21,
   "metadata": {
    "init_cell": true
   },
   "outputs": [],
   "source": [
    "itos = [o for o,c in freq.most_common(max_vocab) if c>min_freq] #Sort out all words that apper less than max_vocab with bigger freq than min_freq\n",
    "itos.insert(0, \"_unk_\") #words that did not appear before or not frequent enough\n",
    "itos.insert(1, \"_pad_\")"
   ]
  },
  {
   "cell_type": "code",
   "execution_count": 22,
   "metadata": {
    "init_cell": true
   },
   "outputs": [
    {
     "data": {
      "text/plain": [
       "3242"
      ]
     },
     "execution_count": 22,
     "metadata": {},
     "output_type": "execute_result"
    }
   ],
   "source": [
    "stoi = collections.defaultdict(lambda:0, {v:k for k,v in enumerate(itos)}) #dictionary with index numbers sorted by freq\n",
    "len(itos)"
   ]
  },
  {
   "cell_type": "code",
   "execution_count": 121,
   "metadata": {},
   "outputs": [
    {
     "data": {
      "text/plain": [
       "array([list(['xbos', 'i', 'do', 'not', 'love', 'these', 'hoes']),\n",
       "       list(['xbos', 'halloween', '2011', 'a', 'spoopy', 'hoe', 'and', 'her', 'pimp', 'daddy']),\n",
       "       list(['xbos', 'gator', \"'s\", 'bitches', 'best', 'be', 'usin', 'jimmy', \"'s\", '!']),\n",
       "       list(['xbos', 'these', 'hoes', 'out', 'here', 'beefing', 'bout', 'as', 'important', 'as', 'these', 'hoes', 'out', 'here', 'queefing', '.', \"y'\", 'all', 'blowing', 'vaginal', 'wind', 'back', '&', 'amp', ';', 'forth', '.', 't_up', 'stfu', '&', 'amp', ';', 't_up', 'get', 't_up', 'money', '!']),\n",
       "       list(['xbos', 'i', \"'m\", 'about', 'to', 'get', 'this', 'bitch', 'a', 'cell', 'mate']),\n",
       "       list(['xbos', 'bitches', 'get', 'da', 'dick', 'they', 'be', 'dickmatized', '!']),\n",
       "       list(['xbos', 'head', 'explosion', ':', 't_up', 'ww2', 'navajo', 'code', 'talkers', 'appear', 'in', 'redskins', 'jackets', '.', '#', 'redskins']),\n",
       "       list(['xbos', 'i', 'got', 'a', 'gang', 'of', 'old', 'ass', 'drafts', ',', 'all', 'trash']),\n",
       "       list(['xbos', 'so', 'bad', 'bitches', 'intimidate', 'you', ',', 'in', 'other', 'words', '?']),\n",
       "       list(['xbos', 'she', 'said', 'to', 'bring', 'a', 'bitch', 'of', 'mine', 'done'])], dtype=object)"
      ]
     },
     "execution_count": 121,
     "metadata": {},
     "output_type": "execute_result"
    }
   ],
   "source": [
    "tok_trn[-10:]"
   ]
  },
  {
   "cell_type": "code",
   "execution_count": 122,
   "metadata": {},
   "outputs": [],
   "source": [
    "trn_lm = np.array([[stoi[o] for o in p] for p in tok_trn])\n",
    "val_lm = np.array([[stoi[o] for o in p] for p in tok_val])\n",
    "tst_lm = np.array([[stoi[o] for o in p] for p in tok_tst])"
   ]
  },
  {
   "cell_type": "code",
   "execution_count": 123,
   "metadata": {},
   "outputs": [],
   "source": [
    "np.save(LM_PATH/\"tmp\"/\"trn_ids.npy\", trn_lm)\n",
    "np.save(LM_PATH/\"tmp\"/\"val_ids.npy\", val_lm)\n",
    "np.save(LM_PATH/\"tmp\"/\"tst_ids.npy\", tst_lm)\n",
    "pickle.dump(itos, open(LM_PATH/\"tmp\"/\"itos.pkl\",\"wb\"))"
   ]
  },
  {
   "cell_type": "code",
   "execution_count": 23,
   "metadata": {
    "init_cell": true
   },
   "outputs": [],
   "source": [
    "#necessary\n",
    "trn_lm = np.load(LM_PATH/\"tmp\"/\"trn_ids.npy\")\n",
    "val_lm = np.load(LM_PATH/\"tmp\"/\"val_ids.npy\")\n",
    "tst_lm = np.load(LM_PATH/\"tmp\"/\"tst_ids.npy\")\n",
    "itos = pickle.load(open(LM_PATH/\"tmp\"/\"itos.pkl\",\"rb\"))"
   ]
  },
  {
   "cell_type": "code",
   "execution_count": 24,
   "metadata": {
    "init_cell": true
   },
   "outputs": [
    {
     "data": {
      "text/plain": [
       "(3242, 19827, 2478, 2478)"
      ]
     },
     "execution_count": 24,
     "metadata": {},
     "output_type": "execute_result"
    }
   ],
   "source": [
    "#necessary\n",
    "vs = len(itos) #vocabsize\n",
    "vs, len(trn_lm), len(val_lm), len(tst_lm)"
   ]
  },
  {
   "cell_type": "markdown",
   "metadata": {},
   "source": [
    "Wikitext103"
   ]
  },
  {
   "cell_type": "code",
   "execution_count": 25,
   "metadata": {
    "init_cell": true
   },
   "outputs": [],
   "source": [
    "#necessary\n",
    "em_sz,nh,nl = 400,1150,3 #embedding, hidden_size, hidden_layer - values of original wikitext model"
   ]
  },
  {
   "cell_type": "code",
   "execution_count": 26,
   "metadata": {
    "init_cell": true
   },
   "outputs": [],
   "source": [
    "PRE_PATH = PATH/\"models\"/\"wt103basedsem140\"\n",
    "PRE_LM_PATH = PRE_PATH/\"wt103_based.h5\""
   ]
  },
  {
   "cell_type": "code",
   "execution_count": 27,
   "metadata": {
    "init_cell": true
   },
   "outputs": [],
   "source": [
    "wgts = torch.load(PRE_LM_PATH, map_location=lambda storage, loc: storage) #load wikitext weights"
   ]
  },
  {
   "cell_type": "code",
   "execution_count": 28,
   "metadata": {
    "init_cell": true
   },
   "outputs": [],
   "source": [
    "enc_wgts = to_np(wgts[\"0.encoder.weight\"])\n",
    "row_m = enc_wgts.mean(0) #mean used for unknown tokens"
   ]
  },
  {
   "cell_type": "markdown",
   "metadata": {},
   "source": [
    "Map Vocabularies on each other"
   ]
  },
  {
   "cell_type": "code",
   "execution_count": 29,
   "metadata": {
    "init_cell": true
   },
   "outputs": [
    {
     "data": {
      "text/plain": [
       "41813"
      ]
     },
     "execution_count": 29,
     "metadata": {},
     "output_type": "execute_result"
    }
   ],
   "source": [
    "itos2 = pickle.load((PRE_PATH/\"itos_sem140.pkl\").open(\"rb\"))\n",
    "stoi2 = collections.defaultdict(lambda:-1, {v:k for k,v in enumerate(itos2)})\n",
    "len(stoi2)"
   ]
  },
  {
   "cell_type": "code",
   "execution_count": 30,
   "metadata": {
    "init_cell": true
   },
   "outputs": [],
   "source": [
    "new_w = np.zeros((vs, em_sz), dtype=np.float32) #0-matrix vocab-size*embedding-size\n",
    "for i,w in enumerate(itos): #Go through vocab of turn dataset\n",
    "    r = stoi2[w]\n",
    "    new_w[i] = enc_wgts[r] if r>=0 else row_m #if word exists copy weight, otherwise average weight"
   ]
  },
  {
   "cell_type": "code",
   "execution_count": 31,
   "metadata": {
    "init_cell": true
   },
   "outputs": [],
   "source": [
    "wgts[\"0.encoder.weight\"] = T(new_w)\n",
    "wgts[\"0.encoder_with_dropout.embed.weight\"] = T(np.copy(new_w))\n",
    "wgts[\"1.decoder.weight\"] = T(np.copy(new_w))"
   ]
  },
  {
   "cell_type": "markdown",
   "metadata": {},
   "source": [
    "## Language Model"
   ]
  },
  {
   "cell_type": "code",
   "execution_count": 36,
   "metadata": {},
   "outputs": [],
   "source": [
    "wd = 1e-4\n",
    "bptt = 70\n",
    "bs = 150\n",
    "opt_fn = partial(optim.Adam, betas=(0.8, 0.99))"
   ]
  },
  {
   "cell_type": "code",
   "execution_count": 37,
   "metadata": {},
   "outputs": [],
   "source": [
    "trn_dl = LanguageModelLoader(np.concatenate(trn_lm), bs, bptt)\n",
    "val_dl = LanguageModelLoader(np.concatenate(val_lm), bs, bptt)\n",
    "tst_dl = LanguageModelLoader(np.concatenate(tst_lm), bs, bptt)\n",
    "md = LanguageModelData(PATH, 1, vs, trn_dl, val_dl, tst_dl, bs=bs, bptt=bptt)"
   ]
  },
  {
   "cell_type": "code",
   "execution_count": 38,
   "metadata": {},
   "outputs": [],
   "source": [
    "drops = np.array([0.25, 0.1, 0.2, 0.02, 0.15])*1.2 #1.8 smaller dataset = higher multiplicator"
   ]
  },
  {
   "cell_type": "code",
   "execution_count": 39,
   "metadata": {},
   "outputs": [],
   "source": [
    "md.trn_dl.data = md.trn_dl.data.long()\n",
    "md.val_dl.data = md.val_dl.data.long()\n",
    "md.test_dl.data = md.test_dl.data.long()"
   ]
  },
  {
   "cell_type": "markdown",
   "metadata": {},
   "source": [
    "Initialize missing tokens with mean weights. So freeze everything except last layer"
   ]
  },
  {
   "cell_type": "code",
   "execution_count": 40,
   "metadata": {},
   "outputs": [],
   "source": [
    "learner= md.get_model(opt_fn, em_sz, nh, nl, \n",
    "    dropouti=drops[0], dropout=drops[1], wdrop=drops[2], dropoute=drops[3], dropouth=drops[4])\n",
    "\n",
    "learner.metrics = [accuracy]\n",
    "learner.freeze_to(-1)"
   ]
  },
  {
   "cell_type": "code",
   "execution_count": 41,
   "metadata": {},
   "outputs": [],
   "source": [
    "learner.model.load_state_dict(wgts)"
   ]
  },
  {
   "cell_type": "code",
   "execution_count": 42,
   "metadata": {},
   "outputs": [
    {
     "data": {
      "application/vnd.jupyter.widget-view+json": {
       "model_id": "b19f6fed9973410381aec778d34cbdbb",
       "version_major": 2,
       "version_minor": 0
      },
      "text/plain": [
       "HBox(children=(IntProgress(value=0, description='Epoch', max=2), HTML(value='')))"
      ]
     },
     "metadata": {},
     "output_type": "display_data"
    },
    {
     "name": "stdout",
     "output_type": "stream",
     "text": [
      "                                                                                                                       \r"
     ]
    },
    {
     "ename": "RuntimeError",
     "evalue": "Error(s) in loading state_dict for SequentialRNN:\n\tMissing key(s) in state_dict: \"0.rnns.0.module.weight_hh_l0\", \"0.rnns.1.module.weight_hh_l0\", \"0.rnns.2.module.weight_hh_l0\". ",
     "output_type": "error",
     "traceback": [
      "\u001b[1;31m---------------------------------------------------------------------------\u001b[0m",
      "\u001b[1;31mRuntimeError\u001b[0m                              Traceback (most recent call last)",
      "\u001b[1;32m<ipython-input-42-c970db57983d>\u001b[0m in \u001b[0;36m<module>\u001b[1;34m()\u001b[0m\n\u001b[1;32m----> 1\u001b[1;33m \u001b[0mlearner\u001b[0m\u001b[1;33m.\u001b[0m\u001b[0mlr_find2\u001b[0m\u001b[1;33m(\u001b[0m\u001b[0mstart_lr\u001b[0m\u001b[1;33m=\u001b[0m\u001b[1;36m0.01\u001b[0m\u001b[1;33m,\u001b[0m\u001b[0mend_lr\u001b[0m\u001b[1;33m=\u001b[0m\u001b[1;36m0.35\u001b[0m\u001b[1;33m,\u001b[0m \u001b[0mwds\u001b[0m\u001b[1;33m=\u001b[0m\u001b[0mwd\u001b[0m\u001b[1;33m,\u001b[0m \u001b[0mnum_it\u001b[0m\u001b[1;33m=\u001b[0m\u001b[1;36m29\u001b[0m\u001b[1;33m)\u001b[0m\u001b[1;33m\u001b[0m\u001b[0m\n\u001b[0m",
      "\u001b[1;32m~\\Anaconda3\\lib\\site-packages\\fastai\\fastai\\learner.py\u001b[0m in \u001b[0;36mlr_find2\u001b[1;34m(self, start_lr, end_lr, num_it, wds, linear, stop_dv, **kwargs)\u001b[0m\n\u001b[0;32m    365\u001b[0m         \u001b[0mself\u001b[0m\u001b[1;33m.\u001b[0m\u001b[0msched\u001b[0m \u001b[1;33m=\u001b[0m \u001b[0mLR_Finder2\u001b[0m\u001b[1;33m(\u001b[0m\u001b[0mlayer_opt\u001b[0m\u001b[1;33m,\u001b[0m \u001b[0mnum_it\u001b[0m\u001b[1;33m,\u001b[0m \u001b[0mend_lr\u001b[0m\u001b[1;33m,\u001b[0m \u001b[0mlinear\u001b[0m\u001b[1;33m=\u001b[0m\u001b[0mlinear\u001b[0m\u001b[1;33m,\u001b[0m \u001b[0mmetrics\u001b[0m\u001b[1;33m=\u001b[0m\u001b[0mself\u001b[0m\u001b[1;33m.\u001b[0m\u001b[0mmetrics\u001b[0m\u001b[1;33m,\u001b[0m \u001b[0mstop_dv\u001b[0m\u001b[1;33m=\u001b[0m\u001b[0mstop_dv\u001b[0m\u001b[1;33m)\u001b[0m\u001b[1;33m\u001b[0m\u001b[0m\n\u001b[0;32m    366\u001b[0m         \u001b[0mself\u001b[0m\u001b[1;33m.\u001b[0m\u001b[0mfit_gen\u001b[0m\u001b[1;33m(\u001b[0m\u001b[0mself\u001b[0m\u001b[1;33m.\u001b[0m\u001b[0mmodel\u001b[0m\u001b[1;33m,\u001b[0m \u001b[0mself\u001b[0m\u001b[1;33m.\u001b[0m\u001b[0mdata\u001b[0m\u001b[1;33m,\u001b[0m \u001b[0mlayer_opt\u001b[0m\u001b[1;33m,\u001b[0m \u001b[0mnum_it\u001b[0m\u001b[1;33m//\u001b[0m\u001b[0mlen\u001b[0m\u001b[1;33m(\u001b[0m\u001b[0mself\u001b[0m\u001b[1;33m.\u001b[0m\u001b[0mdata\u001b[0m\u001b[1;33m.\u001b[0m\u001b[0mtrn_dl\u001b[0m\u001b[1;33m)\u001b[0m \u001b[1;33m+\u001b[0m \u001b[1;36m1\u001b[0m\u001b[1;33m,\u001b[0m \u001b[0mall_val\u001b[0m\u001b[1;33m=\u001b[0m\u001b[1;32mTrue\u001b[0m\u001b[1;33m,\u001b[0m \u001b[1;33m**\u001b[0m\u001b[0mkwargs\u001b[0m\u001b[1;33m)\u001b[0m\u001b[1;33m\u001b[0m\u001b[0m\n\u001b[1;32m--> 367\u001b[1;33m         \u001b[0mself\u001b[0m\u001b[1;33m.\u001b[0m\u001b[0mload\u001b[0m\u001b[1;33m(\u001b[0m\u001b[1;34m'tmp'\u001b[0m\u001b[1;33m)\u001b[0m\u001b[1;33m\u001b[0m\u001b[0m\n\u001b[0m\u001b[0;32m    368\u001b[0m \u001b[1;33m\u001b[0m\u001b[0m\n\u001b[0;32m    369\u001b[0m     \u001b[1;32mdef\u001b[0m \u001b[0mpredict\u001b[0m\u001b[1;33m(\u001b[0m\u001b[0mself\u001b[0m\u001b[1;33m,\u001b[0m \u001b[0mis_test\u001b[0m\u001b[1;33m=\u001b[0m\u001b[1;32mFalse\u001b[0m\u001b[1;33m,\u001b[0m \u001b[0muse_swa\u001b[0m\u001b[1;33m=\u001b[0m\u001b[1;32mFalse\u001b[0m\u001b[1;33m)\u001b[0m\u001b[1;33m:\u001b[0m\u001b[1;33m\u001b[0m\u001b[0m\n",
      "\u001b[1;32m~\\Anaconda3\\lib\\site-packages\\fastai\\fastai\\learner.py\u001b[0m in \u001b[0;36mload\u001b[1;34m(self, name)\u001b[0m\n\u001b[0;32m    103\u001b[0m \u001b[1;33m\u001b[0m\u001b[0m\n\u001b[0;32m    104\u001b[0m     \u001b[1;32mdef\u001b[0m \u001b[0mload\u001b[0m\u001b[1;33m(\u001b[0m\u001b[0mself\u001b[0m\u001b[1;33m,\u001b[0m \u001b[0mname\u001b[0m\u001b[1;33m)\u001b[0m\u001b[1;33m:\u001b[0m\u001b[1;33m\u001b[0m\u001b[0m\n\u001b[1;32m--> 105\u001b[1;33m         \u001b[0mload_model\u001b[0m\u001b[1;33m(\u001b[0m\u001b[0mself\u001b[0m\u001b[1;33m.\u001b[0m\u001b[0mmodel\u001b[0m\u001b[1;33m,\u001b[0m \u001b[0mself\u001b[0m\u001b[1;33m.\u001b[0m\u001b[0mget_model_path\u001b[0m\u001b[1;33m(\u001b[0m\u001b[0mname\u001b[0m\u001b[1;33m)\u001b[0m\u001b[1;33m)\u001b[0m\u001b[1;33m\u001b[0m\u001b[0m\n\u001b[0m\u001b[0;32m    106\u001b[0m         \u001b[1;32mif\u001b[0m \u001b[0mhasattr\u001b[0m\u001b[1;33m(\u001b[0m\u001b[0mself\u001b[0m\u001b[1;33m,\u001b[0m \u001b[1;34m'swa_model'\u001b[0m\u001b[1;33m)\u001b[0m\u001b[1;33m:\u001b[0m \u001b[0mload_model\u001b[0m\u001b[1;33m(\u001b[0m\u001b[0mself\u001b[0m\u001b[1;33m.\u001b[0m\u001b[0mswa_model\u001b[0m\u001b[1;33m,\u001b[0m \u001b[0mself\u001b[0m\u001b[1;33m.\u001b[0m\u001b[0mget_model_path\u001b[0m\u001b[1;33m(\u001b[0m\u001b[0mname\u001b[0m\u001b[1;33m)\u001b[0m\u001b[1;33m[\u001b[0m\u001b[1;33m:\u001b[0m\u001b[1;33m-\u001b[0m\u001b[1;36m3\u001b[0m\u001b[1;33m]\u001b[0m\u001b[1;33m+\u001b[0m\u001b[1;34m'-swa.h5'\u001b[0m\u001b[1;33m)\u001b[0m\u001b[1;33m\u001b[0m\u001b[0m\n\u001b[0;32m    107\u001b[0m \u001b[1;33m\u001b[0m\u001b[0m\n",
      "\u001b[1;32m~\\Anaconda3\\lib\\site-packages\\fastai\\fastai\\torch_imports.py\u001b[0m in \u001b[0;36mload_model\u001b[1;34m(m, p)\u001b[0m\n\u001b[0;32m     38\u001b[0m             \u001b[1;32mif\u001b[0m \u001b[0mn\u001b[0m\u001b[1;33m+\u001b[0m\u001b[1;34m'_raw'\u001b[0m \u001b[1;32mnot\u001b[0m \u001b[1;32min\u001b[0m \u001b[0msd\u001b[0m\u001b[1;33m:\u001b[0m \u001b[0msd\u001b[0m\u001b[1;33m[\u001b[0m\u001b[0mn\u001b[0m\u001b[1;33m+\u001b[0m\u001b[1;34m'_raw'\u001b[0m\u001b[1;33m]\u001b[0m \u001b[1;33m=\u001b[0m \u001b[0msd\u001b[0m\u001b[1;33m[\u001b[0m\u001b[0mn\u001b[0m\u001b[1;33m]\u001b[0m\u001b[1;33m\u001b[0m\u001b[0m\n\u001b[0;32m     39\u001b[0m             \u001b[1;32mdel\u001b[0m \u001b[0msd\u001b[0m\u001b[1;33m[\u001b[0m\u001b[0mn\u001b[0m\u001b[1;33m]\u001b[0m\u001b[1;33m\u001b[0m\u001b[0m\n\u001b[1;32m---> 40\u001b[1;33m     \u001b[0mm\u001b[0m\u001b[1;33m.\u001b[0m\u001b[0mload_state_dict\u001b[0m\u001b[1;33m(\u001b[0m\u001b[0msd\u001b[0m\u001b[1;33m)\u001b[0m\u001b[1;33m\u001b[0m\u001b[0m\n\u001b[0m\u001b[0;32m     41\u001b[0m \u001b[1;33m\u001b[0m\u001b[0m\n\u001b[0;32m     42\u001b[0m \u001b[1;32mdef\u001b[0m \u001b[0mload_pre\u001b[0m\u001b[1;33m(\u001b[0m\u001b[0mpre\u001b[0m\u001b[1;33m,\u001b[0m \u001b[0mf\u001b[0m\u001b[1;33m,\u001b[0m \u001b[0mfn\u001b[0m\u001b[1;33m)\u001b[0m\u001b[1;33m:\u001b[0m\u001b[1;33m\u001b[0m\u001b[0m\n",
      "\u001b[1;32m~\\Anaconda3\\lib\\site-packages\\torch\\nn\\modules\\module.py\u001b[0m in \u001b[0;36mload_state_dict\u001b[1;34m(self, state_dict, strict)\u001b[0m\n\u001b[0;32m    717\u001b[0m         \u001b[1;32mif\u001b[0m \u001b[0mlen\u001b[0m\u001b[1;33m(\u001b[0m\u001b[0merror_msgs\u001b[0m\u001b[1;33m)\u001b[0m \u001b[1;33m>\u001b[0m \u001b[1;36m0\u001b[0m\u001b[1;33m:\u001b[0m\u001b[1;33m\u001b[0m\u001b[0m\n\u001b[0;32m    718\u001b[0m             raise RuntimeError('Error(s) in loading state_dict for {}:\\n\\t{}'.format(\n\u001b[1;32m--> 719\u001b[1;33m                                self.__class__.__name__, \"\\n\\t\".join(error_msgs)))\n\u001b[0m\u001b[0;32m    720\u001b[0m \u001b[1;33m\u001b[0m\u001b[0m\n\u001b[0;32m    721\u001b[0m     \u001b[1;32mdef\u001b[0m \u001b[0mparameters\u001b[0m\u001b[1;33m(\u001b[0m\u001b[0mself\u001b[0m\u001b[1;33m)\u001b[0m\u001b[1;33m:\u001b[0m\u001b[1;33m\u001b[0m\u001b[0m\n",
      "\u001b[1;31mRuntimeError\u001b[0m: Error(s) in loading state_dict for SequentialRNN:\n\tMissing key(s) in state_dict: \"0.rnns.0.module.weight_hh_l0\", \"0.rnns.1.module.weight_hh_l0\", \"0.rnns.2.module.weight_hh_l0\". "
     ]
    }
   ],
   "source": [
    "learner.lr_find2(start_lr=0.01,end_lr=0.35, wds=wd, num_it=29)"
   ]
  },
  {
   "cell_type": "code",
   "execution_count": 43,
   "metadata": {},
   "outputs": [
    {
     "data": {
      "image/png": "[encoded data removed]",
      "text/plain": [
       "<Figure size 432x864 with 3 Axes>"
      ]
     },
     "metadata": {},
     "output_type": "display_data"
    }
   ],
   "source": [
    "learner.sched.plot()"
   ]
  },
  {
   "cell_type": "code",
   "execution_count": 44,
   "metadata": {},
   "outputs": [],
   "source": [
    "lrs = 0.08"
   ]
  },
  {
   "cell_type": "code",
   "execution_count": 45,
   "metadata": {},
   "outputs": [
    {
     "data": {
      "application/vnd.jupyter.widget-view+json": {
       "model_id": "25a67f34b27b442b9635647513b473cc",
       "version_major": 2,
       "version_minor": 0
      },
      "text/plain": [
       "HBox(children=(IntProgress(value=0, description='Epoch', max=1), HTML(value='')))"
      ]
     },
     "metadata": {},
     "output_type": "display_data"
    },
    {
     "name": "stdout",
     "output_type": "stream",
     "text": [
      "epoch      trn_loss   val_loss   accuracy                                                                              \n",
      "    0      5.334349   4.531473   0.197835  \n"
     ]
    },
    {
     "data": {
      "text/plain": [
       "[4.531473398208618, 0.19783535599708557]"
      ]
     },
     "execution_count": 45,
     "metadata": {},
     "output_type": "execute_result"
    }
   ],
   "source": [
    "learner.fit(lrs/2, 1, wds=wd, use_clr=(32,2), cycle_len=1)"
   ]
  },
  {
   "cell_type": "code",
   "execution_count": 46,
   "metadata": {},
   "outputs": [],
   "source": [
    "learner.freeze_to(-2)"
   ]
  },
  {
   "cell_type": "code",
   "execution_count": 47,
   "metadata": {},
   "outputs": [
    {
     "data": {
      "application/vnd.jupyter.widget-view+json": {
       "model_id": "3fa0244c35d04a52a72abba92b325cb8",
       "version_major": 2,
       "version_minor": 0
      },
      "text/plain": [
       "HBox(children=(IntProgress(value=0, description='Epoch', max=1), HTML(value='')))"
      ]
     },
     "metadata": {},
     "output_type": "display_data"
    },
    {
     "name": "stdout",
     "output_type": "stream",
     "text": [
      "epoch      trn_loss   val_loss   accuracy                                                                              \n",
      "    0      4.785982   4.511458   0.212471  \n"
     ]
    },
    {
     "data": {
      "text/plain": [
       "[4.511457920074463, 0.21247117966413498]"
      ]
     },
     "execution_count": 47,
     "metadata": {},
     "output_type": "execute_result"
    }
   ],
   "source": [
    "learner.fit(lrs/2, 1, wds=wd, use_clr=(32,2), cycle_len=1)"
   ]
  },
  {
   "cell_type": "code",
   "execution_count": 48,
   "metadata": {},
   "outputs": [],
   "source": [
    "learner.save('lm_last_ft')"
   ]
  },
  {
   "cell_type": "code",
   "execution_count": 49,
   "metadata": {},
   "outputs": [],
   "source": [
    "learner.load('lm_last_ft')"
   ]
  },
  {
   "cell_type": "code",
   "execution_count": 50,
   "metadata": {},
   "outputs": [],
   "source": [
    "learner.unfreeze()"
   ]
  },
  {
   "cell_type": "code",
   "execution_count": 51,
   "metadata": {
    "scrolled": true
   },
   "outputs": [
    {
     "data": {
      "application/vnd.jupyter.widget-view+json": {
       "model_id": "fe898ff1200447f28fe2ba01aeb64f6c",
       "version_major": 2,
       "version_minor": 0
      },
      "text/plain": [
       "HBox(children=(IntProgress(value=0, description='Epoch', max=1), HTML(value='')))"
      ]
     },
     "metadata": {},
     "output_type": "display_data"
    },
    {
     "name": "stdout",
     "output_type": "stream",
     "text": [
      " 97%|████████████████████████████████████████████████████████████████████▌  | 28/29 [00:11<00:00,  2.44it/s, loss=4.74]"
     ]
    }
   ],
   "source": [
    "learner.lr_find2(start_lr=0.0001, end_lr=0.1, num_it=28, wds=wd)"
   ]
  },
  {
   "cell_type": "code",
   "execution_count": 52,
   "metadata": {},
   "outputs": [
    {
     "data": {
      "image/png": "[encoded data removed]",
      "text/plain": [
       "<Figure size 432x864 with 3 Axes>"
      ]
     },
     "metadata": {},
     "output_type": "display_data"
    }
   ],
   "source": [
    "learner.sched.plot()"
   ]
  },
  {
   "cell_type": "code",
   "execution_count": 53,
   "metadata": {},
   "outputs": [],
   "source": [
    "lrs = 0.0125"
   ]
  },
  {
   "cell_type": "code",
   "execution_count": 54,
   "metadata": {
    "scrolled": false
   },
   "outputs": [
    {
     "data": {
      "application/vnd.jupyter.widget-view+json": {
       "model_id": "2e9c9873b343485b84492d0880bcdba0",
       "version_major": 2,
       "version_minor": 0
      },
      "text/plain": [
       "HBox(children=(IntProgress(value=0, description='Epoch', max=10), HTML(value='')))"
      ]
     },
     "metadata": {},
     "output_type": "display_data"
    },
    {
     "name": "stdout",
     "output_type": "stream",
     "text": [
      "epoch      trn_loss   val_loss   accuracy                                                                              \n",
      "    0      4.642912   4.462678   0.225453  \n",
      "    1      4.613067   4.473709   0.21286                                                                               \n",
      "    2      4.626534   4.499442   0.222142                                                                              \n",
      "    3      4.603461   4.49816    0.22493                                                                               \n",
      "    4      4.605278   4.53608    0.214217                                                                              \n",
      "    5      4.559198   4.469399   0.226399                                                                              \n",
      "    6      4.52856    4.468724   0.223468                                                                              \n",
      "    7      4.476587   4.440589   0.225523                                                                              \n",
      "    8      4.421346   4.423552   0.223247                                                                              \n",
      "    9      4.363197   4.399246   0.232947                                                                              \n"
     ]
    },
    {
     "data": {
      "text/plain": [
       "[4.399246454238892, 0.23294737190008163]"
      ]
     },
     "execution_count": 54,
     "metadata": {},
     "output_type": "execute_result"
    }
   ],
   "source": [
    "learner.fit(lrs, 1, wds=wd, use_clr=(20,10), cycle_len=10, best_save_name=\"best_lm\")"
   ]
  },
  {
   "cell_type": "code",
   "execution_count": 55,
   "metadata": {},
   "outputs": [],
   "source": [
    "learner.save(\"lm1\")"
   ]
  },
  {
   "cell_type": "code",
   "execution_count": 56,
   "metadata": {},
   "outputs": [],
   "source": [
    "learner.load(\"best_lm\")"
   ]
  },
  {
   "cell_type": "code",
   "execution_count": 57,
   "metadata": {},
   "outputs": [],
   "source": [
    "learner.save_encoder(\"lm1_enc\")"
   ]
  },
  {
   "cell_type": "code",
   "execution_count": 58,
   "metadata": {
    "scrolled": true
   },
   "outputs": [
    {
     "data": {
      "image/png": "[encoded data removed]",
      "text/plain": [
       "<Figure size 432x288 with 1 Axes>"
      ]
     },
     "metadata": {},
     "output_type": "display_data"
    }
   ],
   "source": [
    "learner.sched.plot_loss()"
   ]
  },
  {
   "cell_type": "code",
   "execution_count": 59,
   "metadata": {},
   "outputs": [
    {
     "data": {
      "image/png": "[encoded data removed]",
      "text/plain": [
       "<Figure size 432x288 with 1 Axes>"
      ]
     },
     "metadata": {},
     "output_type": "display_data"
    }
   ],
   "source": [
    "learner.sched.plot_lr()"
   ]
  },
  {
   "cell_type": "code",
   "execution_count": 60,
   "metadata": {},
   "outputs": [],
   "source": [
    "df_trn = pd.read_csv(CLAS_PATH/\"train.csv\", header=None, chunksize=chunksize)\n",
    "df_val = pd.read_csv(CLAS_PATH/\"test.csv\", header=None, chunksize=chunksize)\n",
    "df_tst = pd.read_csv(CLAS_PATH/\"tst.csv\", header=None, chunksize=chunksize)"
   ]
  },
  {
   "cell_type": "code",
   "execution_count": 61,
   "metadata": {},
   "outputs": [
    {
     "name": "stdout",
     "output_type": "stream",
     "text": [
      "0\n",
      "1\n",
      "0\n",
      "0\n"
     ]
    }
   ],
   "source": [
    "tok_trn, trn_labels = get_all(df_trn, 1)\n",
    "tok_val, val_labels = get_all(df_val, 1)\n",
    "tol_tst, tst_labels = get_all(df_tst, 1)"
   ]
  },
  {
   "cell_type": "code",
   "execution_count": 62,
   "metadata": {},
   "outputs": [],
   "source": [
    "(CLAS_PATH/\"tmp\").mkdir(exist_ok=True)\n",
    "\n",
    "np.save(CLAS_PATH/\"tmp\"/\"tok_trn.npy\", tok_trn)\n",
    "np.save(CLAS_PATH/\"tmp\"/\"tok_val.npy\", tok_val)\n",
    "np.save(CLAS_PATH/\"tmp\"/\"tok_tst.npy\", tok_tst)\n",
    "\n",
    "np.save(CLAS_PATH/\"tmp\"/\"trn_labels.npy\", trn_labels)\n",
    "np.save(CLAS_PATH/\"tmp\"/\"val_labels.npy\", val_labels)\n",
    "np.save(CLAS_PATH/\"tmp\"/\"tst_labels.npy\", tst_labels)"
   ]
  },
  {
   "cell_type": "code",
   "execution_count": 32,
   "metadata": {
    "init_cell": true
   },
   "outputs": [],
   "source": [
    "#necessary\n",
    "tok_trn = np.load(CLAS_PATH/'tmp'/'tok_trn.npy')\n",
    "tok_val = np.load(CLAS_PATH/'tmp'/'tok_val.npy')\n",
    "tok_tst = np.load(CLAS_PATH/\"tmp\"/\"tok_tst.npy\")"
   ]
  },
  {
   "cell_type": "code",
   "execution_count": 33,
   "metadata": {
    "init_cell": true
   },
   "outputs": [
    {
     "data": {
      "text/plain": [
       "3242"
      ]
     },
     "execution_count": 33,
     "metadata": {},
     "output_type": "execute_result"
    }
   ],
   "source": [
    "#Necessary\n",
    "itos = pickle.load((LM_PATH/\"tmp\"/\"itos.pkl\").open(\"rb\"))\n",
    "stoi = collections.defaultdict(lambda:0, {v:k for k,v in enumerate(itos)})\n",
    "len(itos)"
   ]
  },
  {
   "cell_type": "code",
   "execution_count": 65,
   "metadata": {},
   "outputs": [],
   "source": [
    "trn_clas = np.array([[stoi[o] for o in p] for p in tok_trn])\n",
    "val_clas = np.array([[stoi[o] for o in p] for p in tok_val])\n",
    "tst_clas = np.array([[stoi[o] for o in p] for p in tok_tst])"
   ]
  },
  {
   "cell_type": "code",
   "execution_count": 66,
   "metadata": {},
   "outputs": [],
   "source": [
    "np.save(CLAS_PATH/\"tmp\"/\"trn_ids.npy\", trn_clas)\n",
    "np.save(CLAS_PATH/\"tmp\"/\"val_ids.npy\", val_clas)\n",
    "np.save(CLAS_PATH/\"tmp\"/\"tst_ids.npy\", tst_clas)"
   ]
  },
  {
   "cell_type": "markdown",
   "metadata": {},
   "source": [
    "## Classifier"
   ]
  },
  {
   "cell_type": "code",
   "execution_count": 34,
   "metadata": {
    "init_cell": true
   },
   "outputs": [],
   "source": [
    "#Necessary\n",
    "trn_clas = np.load(CLAS_PATH/'tmp'/'trn_ids.npy')\n",
    "val_clas = np.load(CLAS_PATH/'tmp'/'val_ids.npy')\n",
    "tst_clas = np.load(CLAS_PATH/\"tmp\"/\"tst_ids.npy\")"
   ]
  },
  {
   "cell_type": "code",
   "execution_count": 35,
   "metadata": {
    "init_cell": true
   },
   "outputs": [],
   "source": [
    "#Necessary\n",
    "trn_labels = np.squeeze(np.load(CLAS_PATH/'tmp'/'trn_labels.npy'))\n",
    "val_labels = np.squeeze(np.load(CLAS_PATH/'tmp'/'val_labels.npy'))\n",
    "tst_labels = np.squeeze(np.load(CLAS_PATH/\"tmp\"/\"tst_labels.npy\"))"
   ]
  },
  {
   "cell_type": "code",
   "execution_count": 36,
   "metadata": {},
   "outputs": [],
   "source": [
    "#Necessary\n",
    "bptt,em_sz,nh,nl = 70,400,1150,3\n",
    "vs = len(itos)\n",
    "opt_fn = partial(optim.Adam, betas=(0.8, 0.99))\n",
    "bs = 150"
   ]
  },
  {
   "cell_type": "code",
   "execution_count": 37,
   "metadata": {},
   "outputs": [],
   "source": [
    "#Necessary\n",
    "min_lbl = trn_labels.min()\n",
    "trn_labels -= min_lbl\n",
    "val_labels -= min_lbl\n",
    "tst_labels -= min_lbl\n",
    "c=int(trn_labels.max())+1"
   ]
  },
  {
   "cell_type": "code",
   "execution_count": 38,
   "metadata": {},
   "outputs": [],
   "source": [
    "#Necessary\n",
    "trn_ds = TextDataset(trn_clas, trn_labels)\n",
    "val_ds = TextDataset(val_clas, val_labels)\n",
    "tst_ds = TextDataset(tst_clas, tst_labels)\n",
    "trn_samp = SortishSampler(trn_clas, key=lambda x: len(trn_clas[x]), bs=bs//2)\n",
    "val_samp = SortSampler(val_clas, key=lambda x: len(val_clas[x]))  #sorts dataset by length to reduce too strongly padded tensors\n",
    "tst_samp = SortSampler(tst_clas, key=lambda x: len(tst_clas[x]))\n",
    "trn_dl = DataLoader(trn_ds, bs//2, transpose=True, num_workers=1, pad_idx=1, sampler=trn_samp)\n",
    "val_dl = DataLoader(val_ds, bs, transpose=True, num_workers=1, pad_idx=1, sampler=val_samp)\n",
    "tst_dl = DataLoader(tst_ds, bs, transpose=True, num_workers=1, pad_idx=1)\n",
    "md = ModelData(PATH, trn_dl, val_dl, tst_dl)"
   ]
  },
  {
   "cell_type": "code",
   "execution_count": 39,
   "metadata": {},
   "outputs": [],
   "source": [
    "#Necessary\n",
    "dps = np.array([0.25, 0.1, 0.2, 0.02, 0.15])*1.4"
   ]
  },
  {
   "cell_type": "code",
   "execution_count": 40,
   "metadata": {},
   "outputs": [],
   "source": [
    "#Necessary\n",
    "m = get_rnn_classifier(bptt, 20*70, c, vs, emb_sz=em_sz, n_hid=nh, n_layers=nl, pad_token=1,\n",
    "                       layers=[em_sz*3, 50,c], drops=[dps[4], 0.2],\n",
    "                      dropouti=dps[0], wdrop=dps[1], dropoute=dps[2], dropouth=dps[3])\n",
    "#check dropout layers"
   ]
  },
  {
   "cell_type": "code",
   "execution_count": 41,
   "metadata": {},
   "outputs": [],
   "source": [
    "#Necessary\n",
    "learn = RNN_Learner(md, TextModel(to_gpu(m)), opt_fn=opt_fn)\n",
    "learn.reg_fn = partial(seq2seq_reg, alpha=2, beta=1)\n",
    "learn.clip=.12\n",
    "learn.metrics = [accuracy]\n",
    "loss_weights = torch.FloatTensor(rtd_avg_weights).cuda()\n",
    "learn.crit = partial(F.cross_entropy, weight=loss_weights)"
   ]
  },
  {
   "cell_type": "code",
   "execution_count": 92,
   "metadata": {},
   "outputs": [],
   "source": [
    "wd = 1e-2\n",
    "learn.load_encoder(\"lm1_enc\")"
   ]
  },
  {
   "cell_type": "code",
   "execution_count": 93,
   "metadata": {},
   "outputs": [],
   "source": [
    "learn.unfreeze()"
   ]
  },
  {
   "cell_type": "code",
   "execution_count": 94,
   "metadata": {
    "scrolled": true
   },
   "outputs": [
    {
     "data": {
      "application/vnd.jupyter.widget-view+json": {
       "model_id": "61dec0605c9b401cbbdf21a76f8044fc",
       "version_major": 2,
       "version_minor": 0
      },
      "text/plain": [
       "HBox(children=(IntProgress(value=0, description='Epoch', max=1), HTML(value='')))"
      ]
     },
     "metadata": {},
     "output_type": "display_data"
    },
    {
     "name": "stdout",
     "output_type": "stream",
     "text": [
      "epoch      trn_loss   val_loss   accuracy                                                                              \n",
      "    0      1.030158   19.524417  0.678497  \n"
     ]
    },
    {
     "data": {
      "image/png": "[encoded data removed]",
      "text/plain": [
       "<Figure size 432x288 with 1 Axes>"
      ]
     },
     "metadata": {},
     "output_type": "display_data"
    }
   ],
   "source": [
    "learn.lr_find(end_lr=1e-1, wds=wd)\n",
    "learn.sched.plot()"
   ]
  },
  {
   "cell_type": "code",
   "execution_count": 95,
   "metadata": {},
   "outputs": [],
   "source": [
    "lrs = 2*10e-4"
   ]
  },
  {
   "cell_type": "code",
   "execution_count": 96,
   "metadata": {},
   "outputs": [],
   "source": [
    "learn.freeze_to(-1)"
   ]
  },
  {
   "cell_type": "code",
   "execution_count": 97,
   "metadata": {},
   "outputs": [
    {
     "data": {
      "application/vnd.jupyter.widget-view+json": {
       "model_id": "c2232ebdfd624fa7b5a7e557cd4cfa06",
       "version_major": 2,
       "version_minor": 0
      },
      "text/plain": [
       "HBox(children=(IntProgress(value=0, description='Epoch', max=1), HTML(value='')))"
      ]
     },
     "metadata": {},
     "output_type": "display_data"
    },
    {
     "name": "stdout",
     "output_type": "stream",
     "text": [
      "epoch      trn_loss   val_loss   accuracy                                                                              \n",
      "    0      0.814817   0.839485   0.732446  \n"
     ]
    },
    {
     "data": {
      "text/plain": [
       "[0.8394854432445461, 0.7324455318381654]"
      ]
     },
     "execution_count": 97,
     "metadata": {},
     "output_type": "execute_result"
    }
   ],
   "source": [
    "learn.fit(lrs, 1, wds=wd, use_wd_sched=True, cycle_len=1, use_clr_beta=(10,10,0.95,0.85), best_save_name='best_lm1')"
   ]
  },
  {
   "cell_type": "code",
   "execution_count": 98,
   "metadata": {},
   "outputs": [],
   "source": [
    "learn.save('clas_0')"
   ]
  },
  {
   "cell_type": "code",
   "execution_count": 99,
   "metadata": {},
   "outputs": [],
   "source": [
    "learn.load('clas_0')"
   ]
  },
  {
   "cell_type": "code",
   "execution_count": 100,
   "metadata": {},
   "outputs": [],
   "source": [
    "learn.freeze_to(-2)"
   ]
  },
  {
   "cell_type": "code",
   "execution_count": 101,
   "metadata": {},
   "outputs": [
    {
     "data": {
      "application/vnd.jupyter.widget-view+json": {
       "model_id": "84f7222f9296464b9932c97593a31461",
       "version_major": 2,
       "version_minor": 0
      },
      "text/plain": [
       "HBox(children=(IntProgress(value=0, description='Epoch', max=1), HTML(value='')))"
      ]
     },
     "metadata": {},
     "output_type": "display_data"
    },
    {
     "name": "stdout",
     "output_type": "stream",
     "text": [
      "epoch      trn_loss   val_loss   accuracy                                                                              \n",
      "    0      0.659007   0.669005   0.750202  \n"
     ]
    },
    {
     "data": {
      "text/plain": [
       "[0.669005323697522, 0.7502017901538359]"
      ]
     },
     "execution_count": 101,
     "metadata": {},
     "output_type": "execute_result"
    }
   ],
   "source": [
    "learn.fit(lrs, 1, wds=wd, use_wd_sched=True, cycle_len=1, use_clr_beta=(10,10,0.95,0.85), best_save_name='best_lm2')"
   ]
  },
  {
   "cell_type": "code",
   "execution_count": 102,
   "metadata": {},
   "outputs": [],
   "source": [
    "learn.save('clas_1')"
   ]
  },
  {
   "cell_type": "code",
   "execution_count": 103,
   "metadata": {},
   "outputs": [],
   "source": [
    "learn.load('clas_1')"
   ]
  },
  {
   "cell_type": "code",
   "execution_count": 104,
   "metadata": {},
   "outputs": [],
   "source": [
    "learn.unfreeze()"
   ]
  },
  {
   "cell_type": "code",
   "execution_count": 105,
   "metadata": {},
   "outputs": [
    {
     "data": {
      "application/vnd.jupyter.widget-view+json": {
       "model_id": "743bc21672644481ad8d7324596775aa",
       "version_major": 2,
       "version_minor": 0
      },
      "text/plain": [
       "HBox(children=(IntProgress(value=0, description='Epoch', max=1), HTML(value='')))"
      ]
     },
     "metadata": {},
     "output_type": "display_data"
    },
    {
     "name": "stdout",
     "output_type": "stream",
     "text": [
      " 94%|███████████████████████████████████████████████████████████████▉    | 249/265 [00:23<00:01,  9.73it/s, loss=0.676]"
     ]
    },
    {
     "data": {
      "image/png": "[encoded data removed]",
      "text/plain": [
       "<Figure size 432x864 with 3 Axes>"
      ]
     },
     "metadata": {},
     "output_type": "display_data"
    }
   ],
   "source": [
    "learn.lr_find2(num_it=250,start_lr=10e-5, end_lr=1e-4, wds=wd, linear=True)\n",
    "learn.sched.plot()"
   ]
  },
  {
   "cell_type": "code",
   "execution_count": 106,
   "metadata": {},
   "outputs": [],
   "source": [
    "lrs = 8e-5"
   ]
  },
  {
   "cell_type": "code",
   "execution_count": 107,
   "metadata": {
    "scrolled": true
   },
   "outputs": [
    {
     "data": {
      "application/vnd.jupyter.widget-view+json": {
       "model_id": "0fdcf6ed3dd048abb6964f859c3aae71",
       "version_major": 2,
       "version_minor": 0
      },
      "text/plain": [
       "HBox(children=(IntProgress(value=0, description='Epoch', max=10), HTML(value='')))"
      ]
     },
     "metadata": {},
     "output_type": "display_data"
    },
    {
     "name": "stdout",
     "output_type": "stream",
     "text": [
      "epoch      trn_loss   val_loss   accuracy                                                                              \n",
      "    0      0.656115   0.640348   0.753027  \n",
      "    1      0.644858   0.589016   0.753027                                                                              \n",
      "    2      0.629964   0.563063   0.762712                                                                              \n",
      "    3      0.579961   0.542583   0.774818                                                                              \n",
      "    4      0.569731   0.54107    0.773608                                                                              \n",
      "    5      0.558035   0.541982   0.79096                                                                               \n",
      "    6      0.526671   0.529724   0.79661                                                                               \n",
      "    7      0.528962   0.523616   0.786521                                                                              \n",
      "    8      0.518428   0.520338   0.795803                                                                              \n",
      "    9      0.491992   0.524107   0.787732                                                                              \n"
     ]
    },
    {
     "data": {
      "text/plain": [
       "[0.5241065840744221, 0.7877320603943333]"
      ]
     },
     "execution_count": 107,
     "metadata": {},
     "output_type": "execute_result"
    }
   ],
   "source": [
    "learn.fit(lrs, 1, wds=wd, use_wd_sched=True, cycle_len=10, use_clr_beta=(10,10,0.95,0.85), best_save_name='best_classifier')"
   ]
  },
  {
   "cell_type": "code",
   "execution_count": 108,
   "metadata": {},
   "outputs": [
    {
     "data": {
      "image/png": "[encoded data removed]",
      "text/plain": [
       "<Figure size 432x288 with 1 Axes>"
      ]
     },
     "metadata": {},
     "output_type": "display_data"
    }
   ],
   "source": [
    "learn.sched.plot_loss()"
   ]
  },
  {
   "cell_type": "code",
   "execution_count": 109,
   "metadata": {},
   "outputs": [],
   "source": [
    "learn.save('clas_2')"
   ]
  },
  {
   "cell_type": "code",
   "execution_count": 42,
   "metadata": {},
   "outputs": [],
   "source": [
    "learn.load(\"best_classifier\")"
   ]
  },
  {
   "cell_type": "code",
   "execution_count": 43,
   "metadata": {},
   "outputs": [
    {
     "name": "stdout",
     "output_type": "stream",
     "text": [
      "Accuracy = 0.7966101694915254 , \n",
      "Confusion Matrix =\n",
      "[[ 187   54   24]\n",
      " [ 281 1396   92]\n",
      " [  22   31  391]]\n",
      "F-Score:  0.8135901500807071\n",
      "Sem-eval F-Score:  0.7966101694915254\n",
      "             precision    recall  f1-score   support\n",
      "\n",
      "          0       0.38      0.71      0.50       265\n",
      "          1       0.94      0.79      0.86      1769\n",
      "          2       0.77      0.88      0.82       444\n",
      "\n",
      "avg / total       0.85      0.80      0.81      2478\n",
      "\n"
     ]
    }
   ],
   "source": [
    "val_lbls = np.load(CLAS_PATH/'tmp'/'val_labels.npy').flatten()\n",
    "val_lbls_sampled = val_lbls[list(val_samp)]\n",
    "predictions = np.argmax(learn.predict(), axis=1)\n",
    "acc = (val_lbls_sampled == predictions).mean()\n",
    "print(\"Accuracy =\", acc, \", \\nConfusion Matrix =\")\n",
    "clas_labels = [0,1,2]\n",
    "print(confusion_matrix(val_lbls_sampled, predictions, labels=clas_labels))\n",
    "print(\"F-Score: \", f1_score(val_lbls_sampled, predictions, average=\"weighted\"))\n",
    "print(\"Sem-eval F-Score: \", f1_score(val_lbls_sampled, predictions, labels=[0,1,2], average=\"micro\"))\n",
    "\n",
    "\n",
    "print(classification_report(val_lbls_sampled, predictions))\n"
   ]
  },
  {
   "cell_type": "code",
   "execution_count": 44,
   "metadata": {},
   "outputs": [
    {
     "name": "stdout",
     "output_type": "stream",
     "text": [
      "Accuracy = 0.8018563357546409 , \n",
      "Confusion Matrix =\n",
      "[[ 182   50]\n",
      " [ 262 1390]]\n",
      "F-Score:  0.8167988848511234\n",
      "Sem-eval F-Score:  0.7965543450722068\n",
      "             precision    recall  f1-score   support\n",
      "\n",
      "          0       0.40      0.69      0.50       265\n",
      "          1       0.96      0.79      0.86      1769\n",
      "          2       0.73      0.93      0.82       444\n",
      "\n",
      "avg / total       0.86      0.80      0.82      2478\n",
      "\n"
     ]
    }
   ],
   "source": [
    "tst_lbls_sampled = np.load(CLAS_PATH/'tmp'/'tst_labels.npy').flatten()\n",
    "#tst_lbls_sampled = tst_lbls[list(tst_samp)]\n",
    "predictions = np.argmax(learn.predict(True), axis=1)\n",
    "acc = (tst_lbls_sampled == predictions).mean()\n",
    "print(\"Accuracy =\", acc, \", \\nConfusion Matrix =\")\n",
    "clas_labels = [0,1]\n",
    "print(confusion_matrix(tst_lbls_sampled, predictions, labels=clas_labels))\n",
    "print(\"F-Score: \", f1_score(tst_lbls_sampled, predictions, average=\"weighted\"))\n",
    "print(\"Sem-eval F-Score: \", f1_score(tst_lbls_sampled, predictions, labels=[0,1], average=\"micro\"))\n",
    "\n",
    "\n",
    "print(classification_report(tst_lbls_sampled, predictions))"
   ]
  },
  {
   "cell_type": "markdown",
   "metadata": {},
   "source": [
    "## Submission"
   ]
  },
  {
   "cell_type": "markdown",
   "metadata": {},
   "source": [
    "### Classifier weight tuning"
   ]
  },
  {
   "cell_type": "code",
   "execution_count": 45,
   "metadata": {},
   "outputs": [
    {
     "data": {
      "text/plain": [
       "array([1, 0, 2, 1, 1, 0, 1, 1, 1, 2], dtype=int64)"
      ]
     },
     "execution_count": 45,
     "metadata": {},
     "output_type": "execute_result"
    }
   ],
   "source": [
    "predictions = np.argmax(learn.predict(True), axis=1)\n",
    "predictions[:10]"
   ]
  },
  {
   "cell_type": "code",
   "execution_count": 65,
   "metadata": {},
   "outputs": [
    {
     "data": {
      "text/plain": [
       "([0.12074410950101042, 1.0, 0.23828472493301575],\n",
       " [8.28197751536386, 1.0, 4.196660110215248])"
      ]
     },
     "execution_count": 65,
     "metadata": {},
     "output_type": "execute_result"
    }
   ],
   "source": [
    "x = [1,1,1] #[0.3,0.5,1.5,1]\n",
    "rtd_avg_weights_clas = [x[i]/value for i, value in enumerate(rtd_avg_weights)]\n",
    "rtd_avg_weights_clas, rtd_avg_weights"
   ]
  },
  {
   "cell_type": "code",
   "execution_count": 66,
   "metadata": {},
   "outputs": [
    {
     "data": {
      "text/plain": [
       "(array([1, 1, 2, 1, 1, 1, 1, 1, 1, 2, 1, 1, 1, 1, 1, 1, 1, 1, 2, 1, 0, 1, 1, 1, 1, 2, 1, 1, 0, 1], dtype=int64),\n",
       " array([1, 0, 2, 1, 1, 0, 1, 1, 1, 2, 1, 1, 1, 1, 1, 1, 1, 1, 2, 1, 0, 1, 1, 1, 1, 2, 1, 1, 0, 0], dtype=int64))"
      ]
     },
     "execution_count": 66,
     "metadata": {},
     "output_type": "execute_result"
    }
   ],
   "source": [
    "preds = learn.predict(True)*rtd_avg_weights_clas#val_weights#\n",
    "preds = np.argmax(preds, axis=1)\n",
    "preds[:30], predictions[:30]"
   ]
  },
  {
   "cell_type": "code",
   "execution_count": 67,
   "metadata": {},
   "outputs": [
    {
     "name": "stdout",
     "output_type": "stream",
     "text": [
      "Accuracy = 0.8321226795803067 , \n",
      "Confusion Matrix =\n",
      "[[ 103  127   35]\n",
      " [ 108 1546  115]\n",
      " [   9   22  413]]\n",
      "F-Score:  0.8296117423162317\n",
      "Sem-eval F-Score:  0.8321226795803067\n",
      "             precision    recall  f1-score   support\n",
      "\n",
      "          0       0.47      0.39      0.42       265\n",
      "          1       0.91      0.87      0.89      1769\n",
      "          2       0.73      0.93      0.82       444\n",
      "\n",
      "avg / total       0.83      0.83      0.83      2478\n",
      "\n"
     ]
    }
   ],
   "source": [
    "tst_lbls_sampled = np.load(CLAS_PATH/'tmp'/'tst_labels.npy').flatten()\n",
    "#tst_lbls_sampled = tst_lbls[list(tst_samp)]\n",
    "acc = (tst_lbls_sampled == preds).mean()\n",
    "print(\"Accuracy =\", acc, \", \\nConfusion Matrix =\")\n",
    "clas_labels = [0,1,2]\n",
    "print(confusion_matrix(tst_lbls_sampled, preds, labels=clas_labels))\n",
    "print(\"F-Score: \", f1_score(tst_lbls_sampled, preds, average=\"weighted\"))\n",
    "print(\"Sem-eval F-Score: \", f1_score(tst_lbls_sampled, preds, labels=[0,1,2], average=\"micro\"))\n",
    "\n",
    "\n",
    "print(classification_report(tst_lbls_sampled, preds))"
   ]
  },
  {
   "cell_type": "code",
   "execution_count": 168,
   "metadata": {},
   "outputs": [
    {
     "data": {
      "text/plain": [
       "(array([[0.12228, 0.64568, 0.23204]]), array([[0.18079, 0.58071, 0.2385 ]]))"
      ]
     },
     "execution_count": 168,
     "metadata": {},
     "output_type": "execute_result"
    }
   ],
   "source": [
    "x = np.unique(preds, return_counts=True)\n",
    "y = np.unique(predictions, return_counts=True)\n",
    "\n",
    "x[1]/[[np.sum(x[1])]*len(x[1])], y[1]/[[np.sum(y[1])]*len(y[1])]"
   ]
  },
  {
   "cell_type": "markdown",
   "metadata": {},
   "source": [
    "### Create output"
   ]
  },
  {
   "cell_type": "code",
   "execution_count": 145,
   "metadata": {},
   "outputs": [],
   "source": [
    "def create_output():\n",
    "    output = []\n",
    "    output.append([\"id\",\"turn1\", \"turn2\", \"turn3\", \"label\"])\n",
    "    preds = learn.predict(True)*rtd_avg_weights_clas\n",
    "    \"\"\"for i, ele in enumerate(preds):\n",
    "        if np.argmax(ele) == 3:\n",
    "            preds[i][3] = -10\"\"\"\n",
    "    predictions = np.argmax(preds, axis=1) #(True = Testset)\n",
    "    \n",
    "    \n",
    "    for i, text in enumerate(tst_texts):\n",
    "        turns = text.split(\"eot\")\n",
    "        output.append([str(i),turns[0].strip(), turns[1].strip(), turns[2].strip(), CLASSES[predictions[i]]])\n",
    "    return output"
   ]
  },
  {
   "cell_type": "code",
   "execution_count": 146,
   "metadata": {},
   "outputs": [
    {
     "ename": "IndexError",
     "evalue": "list index out of range",
     "output_type": "error",
     "traceback": [
      "\u001b[1;31m---------------------------------------------------------------------------\u001b[0m",
      "\u001b[1;31mIndexError\u001b[0m                                Traceback (most recent call last)",
      "\u001b[1;32m<ipython-input-146-22cc5cea1370>\u001b[0m in \u001b[0;36m<module>\u001b[1;34m()\u001b[0m\n\u001b[0;32m      5\u001b[0m             \u001b[0mline\u001b[0m \u001b[1;33m=\u001b[0m \u001b[1;34m\"\\t\"\u001b[0m\u001b[1;33m.\u001b[0m\u001b[0mjoin\u001b[0m\u001b[1;33m(\u001b[0m\u001b[0moutput_set\u001b[0m\u001b[1;33m)\u001b[0m\u001b[1;33m\u001b[0m\u001b[0m\n\u001b[0;32m      6\u001b[0m             \u001b[0mwriter\u001b[0m\u001b[1;33m.\u001b[0m\u001b[0mwrite\u001b[0m\u001b[1;33m(\u001b[0m\u001b[0mline\u001b[0m\u001b[1;33m+\u001b[0m\u001b[1;34m\"\\n\"\u001b[0m\u001b[1;33m)\u001b[0m\u001b[1;33m\u001b[0m\u001b[0m\n\u001b[1;32m----> 7\u001b[1;33m \u001b[0mwrite_sample\u001b[0m\u001b[1;33m(\u001b[0m\u001b[1;33m)\u001b[0m\u001b[1;33m\u001b[0m\u001b[0m\n\u001b[0m",
      "\u001b[1;32m<ipython-input-146-22cc5cea1370>\u001b[0m in \u001b[0;36mwrite_sample\u001b[1;34m()\u001b[0m\n\u001b[0;32m      1\u001b[0m \u001b[1;32mdef\u001b[0m \u001b[0mwrite_sample\u001b[0m\u001b[1;33m(\u001b[0m\u001b[1;33m)\u001b[0m\u001b[1;33m:\u001b[0m\u001b[1;33m\u001b[0m\u001b[0m\n\u001b[1;32m----> 2\u001b[1;33m     \u001b[0moutputs\u001b[0m \u001b[1;33m=\u001b[0m \u001b[0mcreate_output\u001b[0m\u001b[1;33m(\u001b[0m\u001b[1;33m)\u001b[0m\u001b[1;33m\u001b[0m\u001b[0m\n\u001b[0m\u001b[0;32m      3\u001b[0m     \u001b[1;32mwith\u001b[0m \u001b[0mopen\u001b[0m\u001b[1;33m(\u001b[0m\u001b[1;34m\"test.txt\"\u001b[0m\u001b[1;33m,\u001b[0m \u001b[1;34m\"w\"\u001b[0m\u001b[1;33m,\u001b[0m \u001b[0mencoding\u001b[0m\u001b[1;33m=\u001b[0m\u001b[1;34m\"utf-8\"\u001b[0m\u001b[1;33m)\u001b[0m \u001b[1;32mas\u001b[0m \u001b[0mwriter\u001b[0m\u001b[1;33m:\u001b[0m\u001b[1;33m\u001b[0m\u001b[0m\n\u001b[0;32m      4\u001b[0m         \u001b[1;32mfor\u001b[0m \u001b[0moutput_set\u001b[0m \u001b[1;32min\u001b[0m \u001b[0moutputs\u001b[0m\u001b[1;33m:\u001b[0m\u001b[1;33m\u001b[0m\u001b[0m\n\u001b[0;32m      5\u001b[0m             \u001b[0mline\u001b[0m \u001b[1;33m=\u001b[0m \u001b[1;34m\"\\t\"\u001b[0m\u001b[1;33m.\u001b[0m\u001b[0mjoin\u001b[0m\u001b[1;33m(\u001b[0m\u001b[0moutput_set\u001b[0m\u001b[1;33m)\u001b[0m\u001b[1;33m\u001b[0m\u001b[0m\n",
      "\u001b[1;32m<ipython-input-145-50f7c3de8286>\u001b[0m in \u001b[0;36mcreate_output\u001b[1;34m()\u001b[0m\n\u001b[0;32m     11\u001b[0m     \u001b[1;32mfor\u001b[0m \u001b[0mi\u001b[0m\u001b[1;33m,\u001b[0m \u001b[0mtext\u001b[0m \u001b[1;32min\u001b[0m \u001b[0menumerate\u001b[0m\u001b[1;33m(\u001b[0m\u001b[0mtst_texts\u001b[0m\u001b[1;33m)\u001b[0m\u001b[1;33m:\u001b[0m\u001b[1;33m\u001b[0m\u001b[0m\n\u001b[0;32m     12\u001b[0m         \u001b[0mturns\u001b[0m \u001b[1;33m=\u001b[0m \u001b[0mtext\u001b[0m\u001b[1;33m.\u001b[0m\u001b[0msplit\u001b[0m\u001b[1;33m(\u001b[0m\u001b[1;34m\"eot\"\u001b[0m\u001b[1;33m)\u001b[0m\u001b[1;33m\u001b[0m\u001b[0m\n\u001b[1;32m---> 13\u001b[1;33m         \u001b[0moutput\u001b[0m\u001b[1;33m.\u001b[0m\u001b[0mappend\u001b[0m\u001b[1;33m(\u001b[0m\u001b[1;33m[\u001b[0m\u001b[0mstr\u001b[0m\u001b[1;33m(\u001b[0m\u001b[0mi\u001b[0m\u001b[1;33m)\u001b[0m\u001b[1;33m,\u001b[0m\u001b[0mturns\u001b[0m\u001b[1;33m[\u001b[0m\u001b[1;36m0\u001b[0m\u001b[1;33m]\u001b[0m\u001b[1;33m.\u001b[0m\u001b[0mstrip\u001b[0m\u001b[1;33m(\u001b[0m\u001b[1;33m)\u001b[0m\u001b[1;33m,\u001b[0m \u001b[0mturns\u001b[0m\u001b[1;33m[\u001b[0m\u001b[1;36m1\u001b[0m\u001b[1;33m]\u001b[0m\u001b[1;33m.\u001b[0m\u001b[0mstrip\u001b[0m\u001b[1;33m(\u001b[0m\u001b[1;33m)\u001b[0m\u001b[1;33m,\u001b[0m \u001b[0mturns\u001b[0m\u001b[1;33m[\u001b[0m\u001b[1;36m2\u001b[0m\u001b[1;33m]\u001b[0m\u001b[1;33m.\u001b[0m\u001b[0mstrip\u001b[0m\u001b[1;33m(\u001b[0m\u001b[1;33m)\u001b[0m\u001b[1;33m,\u001b[0m \u001b[0mCLASSES\u001b[0m\u001b[1;33m[\u001b[0m\u001b[0mpredictions\u001b[0m\u001b[1;33m[\u001b[0m\u001b[0mi\u001b[0m\u001b[1;33m]\u001b[0m\u001b[1;33m]\u001b[0m\u001b[1;33m]\u001b[0m\u001b[1;33m)\u001b[0m\u001b[1;33m\u001b[0m\u001b[0m\n\u001b[0m\u001b[0;32m     14\u001b[0m     \u001b[1;32mreturn\u001b[0m \u001b[0moutput\u001b[0m\u001b[1;33m\u001b[0m\u001b[0m\n",
      "\u001b[1;31mIndexError\u001b[0m: list index out of range"
     ]
    }
   ],
   "source": [
    "def write_sample():\n",
    "    outputs = create_output()\n",
    "    with open(\"test.txt\", \"w\", encoding=\"utf-8\") as writer:\n",
    "        for output_set in outputs:\n",
    "            line = \"\\t\".join(output_set)\n",
    "            writer.write(line+\"\\n\")\n",
    "write_sample()"
   ]
  },
  {
   "cell_type": "code",
   "execution_count": null,
   "metadata": {},
   "outputs": [],
   "source": [
    "np.exp(3.91)"
   ]
  },
  {
   "cell_type": "code",
   "execution_count": null,
   "metadata": {},
   "outputs": [],
   "source": []
  }
 ],
 "metadata": {
  "celltoolbar": "Initialization Cell",
  "kernelspec": {
   "display_name": "Python 3",
   "language": "python",
   "name": "python3"
  },
  "language_info": {
   "codemirror_mode": {
    "name": "ipython",
    "version": 3
   },
   "file_extension": ".py",
   "mimetype": "text/x-python",
   "name": "python",
   "nbconvert_exporter": "python",
   "pygments_lexer": "ipython3",
   "version": "3.6.5"
  }
 },
 "nbformat": 4,
 "nbformat_minor": 2
}
