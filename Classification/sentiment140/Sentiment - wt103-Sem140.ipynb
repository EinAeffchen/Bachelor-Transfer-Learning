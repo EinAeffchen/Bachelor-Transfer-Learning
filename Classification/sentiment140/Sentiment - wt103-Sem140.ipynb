{
 "cells": [
  {
   "cell_type": "code",
   "execution_count": 36,
   "metadata": {
    "init_cell": true
   },
   "outputs": [],
   "source": [
    "#Necessary\n",
    "from fastai.fastai.text import *\n",
    "from sklearn.metrics import confusion_matrix, f1_score, classification_report\n",
    "\n",
    "import html\n",
    "import csv"
   ]
  },
  {
   "cell_type": "code",
   "execution_count": 37,
   "metadata": {
    "init_cell": true
   },
   "outputs": [],
   "source": [
    "#Necessary\n",
    "BOS = \"xbos \" #beginning-of-sentence tag\n",
    "TAG = \"xnametag\"\n",
    "CLASSES = [\"negative\", \"positive\"]\n",
    "\n"
   ]
  },
  {
   "cell_type": "code",
   "execution_count": 38,
   "metadata": {
    "init_cell": true
   },
   "outputs": [],
   "source": [
    "#Necessary\n",
    "PATH=Path(\"Sem140/\")\n",
    "CLAS_PATH = Path(\"emo_clas/\")\n",
    "CLAS_PATH.mkdir(exist_ok=True)\n",
    "\n",
    "LM_PATH = Path(\"emo_lm/\")\n",
    "LM_PATH.mkdir(exist_ok=True)"
   ]
  },
  {
   "cell_type": "code",
   "execution_count": 39,
   "metadata": {
    "init_cell": true
   },
   "outputs": [
    {
     "name": "stdout",
     "output_type": "stream",
     "text": [
      "800000\n"
     ]
    }
   ],
   "source": [
    "#Necessary\n",
    "def get_texts(path):\n",
    "    texts, labels, data = [],[],[]\n",
    "    with open(path, \"r\") as dataset:\n",
    "        reader = csv.reader(dataset, delimiter=\",\")\n",
    "        data = list(reader)\n",
    "    dataset.close()\n",
    "    for turn in data:\n",
    "        turn[0] = float(turn[0])\n",
    "        if turn[0] != 0: turn[0] = turn[0]/4\n",
    "        texts.append(BOS+turn[5])\n",
    "        labels.append(turn[0])\n",
    "    return np.array(texts), np.array(labels)\n",
    "\n",
    "\n",
    "trn_texts, trn_labels = get_texts(PATH/\"train.csv\")\n",
    "\n",
    "#randomize and then reduce dataset\n",
    "np.random.seed(12)\n",
    "trn_idx = np.random.permutation(len(trn_texts))\n",
    "trn_texts = trn_texts[trn_idx]\n",
    "trn_texts = trn_texts[:int(len(trn_texts)/2)]\n",
    "trn_labels = trn_labels[trn_idx]\n",
    "\n",
    "#split dataset into 10k fold sizes\n",
    "part10k = int(len(trn_texts)/10)\n",
    "print(part10k*10)\n",
    "tst_texts, tst_labels = trn_texts[:part10k], trn_labels[:part10k]\n",
    "val_texts, val_labels = trn_texts[part10k:2*part10k], trn_labels[part10k:2*part10k]\n",
    "trn_texts, trn_labels = trn_texts[part10k*2:], trn_labels[part10k*2:]"
   ]
  },
  {
   "cell_type": "code",
   "execution_count": 6,
   "metadata": {},
   "outputs": [
    {
     "data": {
      "text/plain": [
       "(640000, 80000, 80000, 800000)"
      ]
     },
     "execution_count": 6,
     "metadata": {},
     "output_type": "execute_result"
    }
   ],
   "source": [
    "len(trn_texts), len(val_texts), len(tst_texts), len(trn_texts)+len(val_texts)+len(tst_texts)"
   ]
  },
  {
   "cell_type": "code",
   "execution_count": 40,
   "metadata": {
    "init_cell": true
   },
   "outputs": [],
   "source": [
    "#Necessary\n",
    "col_names = [\"labels\", \"text\"]"
   ]
  },
  {
   "cell_type": "code",
   "execution_count": 41,
   "metadata": {
    "init_cell": true
   },
   "outputs": [],
   "source": [
    "np.random.seed(42)\n",
    "trn_idx = np.random.permutation(len(trn_texts))\n",
    "val_idx = np.random.permutation(len(val_texts))\n",
    "tst_idx = np.random.permutation(len(tst_texts))"
   ]
  },
  {
   "cell_type": "code",
   "execution_count": 42,
   "metadata": {
    "init_cell": true
   },
   "outputs": [],
   "source": [
    "trn_texts = trn_texts[trn_idx]\n",
    "val_texts = val_texts[val_idx]\n",
    "tst_texts = val_texts[tst_idx]\n",
    "\n",
    "trn_labels = trn_labels[trn_idx]\n",
    "val_labels = val_labels[val_idx]\n",
    "tst_labels = val_labels[tst_idx]"
   ]
  },
  {
   "cell_type": "code",
   "execution_count": 43,
   "metadata": {
    "init_cell": true
   },
   "outputs": [
    {
     "data": {
      "text/plain": [
       "(array(['xbos Nite at the company ', 'xbos Gained 1 Follower. Only good thing of the day ',\n",
       "        'xbos Proud of Grace...Erin and I just got back from our first academic assessment...so far, homeschooling is working!   My wife is awesome...',\n",
       "        'xbos @StarFoxA Good idea. ',\n",
       "        'xbos @TaraMaeThornton OOC: I know.  Makes me wonder how unhappy he was, or how much he felt like this was the only way out? :S',\n",
       "        'xbos @CardChronicle I hear bourbon works pretty well ',\n",
       "        \"xbos @m4730 you haven't made it happen yet  Are you going to Warped Tour?\",\n",
       "        'xbos booo...stupid time difference..I woke up to a blog tv invite..I missed QueenB ',\n",
       "        'xbos yeah great just spent 60 to change da stupid tyres n tube... Still at digi having meeting though ',\n",
       "        \"xbos ...traveling to Washington, DC to see my parents w/ Gabe in the morning. I can't wait! It's going to be a great weekend/vacation. \"],\n",
       "       dtype='<U379'), array([0., 0., 1., 1., 0., 1., 0., 0., 0., 1.]))"
      ]
     },
     "execution_count": 43,
     "metadata": {},
     "output_type": "execute_result"
    }
   ],
   "source": [
    "tst_texts[:10], tst_labels[:10]"
   ]
  },
  {
   "cell_type": "code",
   "execution_count": 44,
   "metadata": {
    "init_cell": true
   },
   "outputs": [],
   "source": [
    "#Necessary\n",
    "df_trn = pd.DataFrame({\"text\":trn_texts, \"labels\":trn_labels}, columns=col_names)\n",
    "df_val = pd.DataFrame({\"text\":val_texts, \"labels\":val_labels}, columns=col_names)\n",
    "df_tst = pd.DataFrame({\"text\":tst_texts, \"labels\":tst_labels}, columns=col_names)"
   ]
  },
  {
   "cell_type": "markdown",
   "metadata": {},
   "source": [
    "Get Weights for class imbalance"
   ]
  },
  {
   "cell_type": "code",
   "execution_count": 45,
   "metadata": {
    "init_cell": true
   },
   "outputs": [
    {
     "data": {
      "text/plain": [
       "(array([0.50114, 0.49886]), [0.50135, 0.49865])"
      ]
     },
     "execution_count": 45,
     "metadata": {},
     "output_type": "execute_result"
    }
   ],
   "source": [
    "#Necessary\n",
    "trn_labelcounts = df_trn.groupby([\"labels\"]).size()\n",
    "val_labelcounts = df_val.groupby([\"labels\"]).size()\n",
    "tst_labelcounts = df_tst.groupby([\"labels\"]).size()\n",
    "trn_label_sum = len(df_trn[\"labels\"])\n",
    "val_label_sum = len(df_val[\"labels\"])\n",
    "tst_label_sum = len(df_tst[\"labels\"])\n",
    "trn_weights = [count/trn_label_sum for count in trn_labelcounts]\n",
    "val_weights = [count/val_label_sum for count in val_labelcounts]\n",
    "tst_weights = [count/tst_label_sum for count in tst_labelcounts]\n",
    "avg_weights = (np.array(trn_weights)+np.array(val_weights)+np.array(tst_weights))/3\n",
    "avg_weights, val_weights"
   ]
  },
  {
   "cell_type": "code",
   "execution_count": 46,
   "metadata": {
    "init_cell": true
   },
   "outputs": [
    {
     "data": {
      "text/plain": [
       "([1.0, 1.0028916748555727], [1.0, 1.0045729320011274])"
      ]
     },
     "execution_count": 46,
     "metadata": {},
     "output_type": "execute_result"
    }
   ],
   "source": [
    "#Necessary\n",
    "rtd_avg_weights = [max(avg_weights)/value for value in avg_weights]\n",
    "rtd_trn_weights = [max(trn_weights)/value for value in trn_weights]\n",
    "rtd_trn_weights, rtd_avg_weights"
   ]
  },
  {
   "cell_type": "code",
   "execution_count": 14,
   "metadata": {},
   "outputs": [],
   "source": [
    "df_trn.to_csv(CLAS_PATH/\"train.csv\", header=False, index=False)\n",
    "df_val.to_csv(CLAS_PATH/\"test.csv\", header=False, index=False)\n",
    "df_tst.to_csv(CLAS_PATH/\"tst.csv\", header=False, index=False)\n",
    "\n",
    "(CLAS_PATH/\"classes.txt\").open(\"w\").writelines(f\"{o}\\n\" for o in CLASSES)"
   ]
  },
  {
   "cell_type": "code",
   "execution_count": 15,
   "metadata": {},
   "outputs": [
    {
     "data": {
      "text/html": [
       "<div>\n",
       "<style scoped>\n",
       "    .dataframe tbody tr th:only-of-type {\n",
       "        vertical-align: middle;\n",
       "    }\n",
       "\n",
       "    .dataframe tbody tr th {\n",
       "        vertical-align: top;\n",
       "    }\n",
       "\n",
       "    .dataframe thead th {\n",
       "        text-align: right;\n",
       "    }\n",
       "</style>\n",
       "<table border=\"1\" class=\"dataframe\">\n",
       "  <thead>\n",
       "    <tr style=\"text-align: right;\">\n",
       "      <th></th>\n",
       "      <th>labels</th>\n",
       "      <th>text</th>\n",
       "    </tr>\n",
       "  </thead>\n",
       "  <tbody>\n",
       "    <tr>\n",
       "      <th>0</th>\n",
       "      <td>0.0</td>\n",
       "      <td>xbos Playing the sims with Katie... Feel like ...</td>\n",
       "    </tr>\n",
       "    <tr>\n",
       "      <th>1</th>\n",
       "      <td>0.0</td>\n",
       "      <td>xbos Sarah's B-day today!!! (And I have to wor...</td>\n",
       "    </tr>\n",
       "    <tr>\n",
       "      <th>2</th>\n",
       "      <td>0.0</td>\n",
       "      <td>xbos it hurts ....</td>\n",
       "    </tr>\n",
       "    <tr>\n",
       "      <th>3</th>\n",
       "      <td>0.0</td>\n",
       "      <td>xbos errrrg!! amazing dance today 8 more days ...</td>\n",
       "    </tr>\n",
       "    <tr>\n",
       "      <th>4</th>\n",
       "      <td>0.0</td>\n",
       "      <td>xbos Gunna miss you Corporal. Can't believe yo...</td>\n",
       "    </tr>\n",
       "  </tbody>\n",
       "</table>\n",
       "</div>"
      ],
      "text/plain": [
       "   labels                                               text\n",
       "0     0.0  xbos Playing the sims with Katie... Feel like ...\n",
       "1     0.0  xbos Sarah's B-day today!!! (And I have to wor...\n",
       "2     0.0                                xbos it hurts .... \n",
       "3     0.0  xbos errrrg!! amazing dance today 8 more days ...\n",
       "4     0.0  xbos Gunna miss you Corporal. Can't believe yo..."
      ]
     },
     "execution_count": 15,
     "metadata": {},
     "output_type": "execute_result"
    }
   ],
   "source": [
    "df_trn.head()"
   ]
  },
  {
   "cell_type": "code",
   "execution_count": 47,
   "metadata": {
    "init_cell": true
   },
   "outputs": [
    {
     "data": {
      "text/plain": [
       "['negative\\n', 'positive\\n']"
      ]
     },
     "execution_count": 47,
     "metadata": {},
     "output_type": "execute_result"
    }
   ],
   "source": [
    "(CLAS_PATH/\"classes.txt\").open().readlines()"
   ]
  },
  {
   "cell_type": "code",
   "execution_count": 48,
   "metadata": {
    "init_cell": true
   },
   "outputs": [],
   "source": [
    "df_trn = pd.DataFrame({\"text\":trn_texts, \"labels\":[0]*len(trn_texts)}, columns=col_names)\n",
    "df_val = pd.DataFrame({\"text\":val_texts, \"labels\":[0]*len(val_texts)}, columns=col_names)\n",
    "df_tst = pd.DataFrame({\"text\":tst_texts, \"labels\":[0]*len(tst_texts)}, columns=col_names)\n",
    "\n",
    "\n",
    "df_trn.to_csv(LM_PATH/\"train.csv\", header=False, index=False)\n",
    "df_val.to_csv(LM_PATH/\"test.csv\", header=False, index=False)\n",
    "df_tst.to_csv(LM_PATH/\"tst.csv\", header=False, index=False)"
   ]
  },
  {
   "cell_type": "markdown",
   "metadata": {},
   "source": [
    "Tokenization"
   ]
  },
  {
   "cell_type": "code",
   "execution_count": 49,
   "metadata": {
    "init_cell": true
   },
   "outputs": [],
   "source": [
    "def fixup(x):\n",
    "    x = x.split()\n",
    "    for i, word in enumerate(x):\n",
    "        if \"http://\" in word:\n",
    "            del x[i]\n",
    "        elif \"@\" in word:\n",
    "            try:\n",
    "                x[i] = TAG\n",
    "            except IndexError:\n",
    "                print(x, i)\n",
    "    return \" \".join(x)"
   ]
  },
  {
   "cell_type": "code",
   "execution_count": 50,
   "metadata": {
    "init_cell": true
   },
   "outputs": [],
   "source": [
    "def get_texts(df, n_lbls=1):\n",
    "    labels = df.iloc[:,range(n_lbls)].values.astype(np.int64)\n",
    "    texts = df[n_lbls].astype(str)\n",
    "    for i in range(n_lbls+1, len(df.columns)): texts += df[i].astype(str)\n",
    "    texts = list(texts.apply(fixup).values)\n",
    "\n",
    "    tok = Tokenizer().proc_all_mp(partition_by_cores(texts))\n",
    "    return tok, list(labels)"
   ]
  },
  {
   "cell_type": "code",
   "execution_count": 51,
   "metadata": {
    "init_cell": true
   },
   "outputs": [],
   "source": [
    "def get_all(df, n_lbls):\n",
    "    tok, labels = [], []\n",
    "    for i, r in enumerate(df):\n",
    "        print(i)\n",
    "        tok_, labels_ = get_texts(r, n_lbls)\n",
    "        tok += tok_;\n",
    "        labels += labels_\n",
    "    return tok, labels"
   ]
  },
  {
   "cell_type": "code",
   "execution_count": 52,
   "metadata": {
    "init_cell": true
   },
   "outputs": [],
   "source": [
    "chunksize = 100000\n",
    "df_trn = pd.read_csv(LM_PATH/\"train.csv\", header=None, chunksize=chunksize)\n",
    "df_val = pd.read_csv(LM_PATH/\"test.csv\", header=None, chunksize=chunksize)\n",
    "df_tst = pd.read_csv(LM_PATH/\"tst.csv\", header=None, chunksize=chunksize)"
   ]
  },
  {
   "cell_type": "code",
   "execution_count": 55,
   "metadata": {},
   "outputs": [
    {
     "name": "stdout",
     "output_type": "stream",
     "text": [
      "0\n",
      "1\n",
      "2\n",
      "3\n",
      "4\n",
      "5\n",
      "6\n",
      "0\n",
      "0\n"
     ]
    }
   ],
   "source": [
    "tok_trn, trn_labels = get_all(df_trn, 1)\n",
    "tok_val, val_labels = get_all(df_val, 1)\n",
    "tok_tst, tst_labels = get_all(df_tst, 1)"
   ]
  },
  {
   "cell_type": "code",
   "execution_count": 56,
   "metadata": {},
   "outputs": [],
   "source": [
    "(LM_PATH/\"tmp\").mkdir(exist_ok=True)"
   ]
  },
  {
   "cell_type": "code",
   "execution_count": 57,
   "metadata": {},
   "outputs": [],
   "source": [
    "np.save(LM_PATH/\"tmp\"/\"tok_trn.npy\",tok_trn)\n",
    "np.save(LM_PATH/\"tmp\"/\"tok_val.npy\",tok_val)\n",
    "np.save(LM_PATH/\"tmp\"/\"tok_tst.npy\",tok_tst)"
   ]
  },
  {
   "cell_type": "code",
   "execution_count": 53,
   "metadata": {
    "init_cell": true
   },
   "outputs": [],
   "source": [
    "tok_trn = np.load(LM_PATH/\"tmp\"/\"tok_trn.npy\")\n",
    "tok_val = np.load(LM_PATH/\"tmp\"/\"tok_val.npy\")\n",
    "tok_tst = np.load(LM_PATH/\"tmp\"/\"tok_tst.npy\")"
   ]
  },
  {
   "cell_type": "code",
   "execution_count": 54,
   "metadata": {
    "init_cell": true,
    "scrolled": true
   },
   "outputs": [
    {
     "data": {
      "text/plain": [
       "[('xbos', 640000),\n",
       " ('i', 401487),\n",
       " ('.', 342976),\n",
       " ('!', 320020),\n",
       " ('xnametag', 314673),\n",
       " ('to', 226624),\n",
       " ('the', 208903),\n",
       " (',', 190561),\n",
       " ('a', 157733),\n",
       " ('t_up', 130625),\n",
       " ('my', 126739),\n",
       " ('it', 121085),\n",
       " ('and', 120929),\n",
       " ('you', 120548),\n",
       " ('is', 98872),\n",
       " ('...', 87826),\n",
       " ('in', 86510),\n",
       " ('?', 86304),\n",
       " ('for', 86252),\n",
       " ('of', 73854),\n",
       " (\"'s\", 71507),\n",
       " ('that', 69758),\n",
       " (\"n't\", 68957),\n",
       " ('on', 67228),\n",
       " ('me', 65022)]"
      ]
     },
     "execution_count": 54,
     "metadata": {},
     "output_type": "execute_result"
    }
   ],
   "source": [
    "freq = Counter(p for o in tok_trn for p in o) #o = review (list of tokenized sentences), p = sentence\n",
    "freq.most_common(25)"
   ]
  },
  {
   "cell_type": "code",
   "execution_count": 24,
   "metadata": {},
   "outputs": [
    {
     "data": {
      "text/plain": [
       "190414"
      ]
     },
     "execution_count": 24,
     "metadata": {},
     "output_type": "execute_result"
    }
   ],
   "source": [
    "len(freq)"
   ]
  },
  {
   "cell_type": "code",
   "execution_count": 55,
   "metadata": {
    "init_cell": true
   },
   "outputs": [],
   "source": [
    "max_vocab = 50000\n",
    "min_freq = 10"
   ]
  },
  {
   "cell_type": "code",
   "execution_count": 56,
   "metadata": {
    "init_cell": true
   },
   "outputs": [],
   "source": [
    "itos = [o for o,c in freq.most_common(max_vocab) if c>min_freq] #Sort out all words that apper less than max_vocab with bigger freq than min_freq\n",
    "itos.insert(0, \"_unk_\") #words that did not appear before or not frequent enough\n",
    "itos.insert(1, \"_pad_\")"
   ]
  },
  {
   "cell_type": "code",
   "execution_count": 57,
   "metadata": {
    "init_cell": true
   },
   "outputs": [
    {
     "data": {
      "text/plain": [
       "19321"
      ]
     },
     "execution_count": 57,
     "metadata": {},
     "output_type": "execute_result"
    }
   ],
   "source": [
    "stoi = collections.defaultdict(lambda:0, {v:k for k,v in enumerate(itos)}) #dictionary with index numbers sorted by freq\n",
    "len(itos)"
   ]
  },
  {
   "cell_type": "code",
   "execution_count": 28,
   "metadata": {},
   "outputs": [
    {
     "data": {
      "text/plain": [
       "array([list(['xbos', 'xnametag', 'yeah', ',', 'but', 'i', 'do', \"n't\", 'have', 'stairs', 'of', 'course']),\n",
       "       list(['xbos', '#', 't_up', 'sfa', 'xnametag', 'yeah', 'i', \"'m\", 'fine', ',', 'waiting', 'for', 'the', 'rest', 'of', 'the', 'european', 'sanctuary', 'fans', 'to', 'wake', 'up', '!', '!']),\n",
       "       list(['xbos', 'movies', '!', '!', '!']),\n",
       "       list(['xbos', \"pik'd\", 'up', 'my', 'injectors', 'from', 'pharmacy', ',', 'officially', 'dependent', 'on', 'medication', 'now']),\n",
       "       list(['xbos', 'xnametag', 'i', 'know', 'i', 'know', '!', 'i', 'was', 'typing', 'while', 'not', 'looking', 'at', 'the', 'keyboard', ',', 'trying', 'to', 'walk', 'out', 'the', 'door', ',', '&', 'amp', ';', 'logout', '.', 'that', 'is', 'what', 'happens']),\n",
       "       list(['xbos', 'xnametag', 'haha', 'when', 'is', 'it', '?', 'good', 'luck', 'babe', '&', 'amp', ';', 't_up', 'upload', 'a', 't_up', 'photo', ',', 't_up', 'will', 'ya', '?']),\n",
       "       list(['xbos', 'today', 'is', 'going', 'well']),\n",
       "       list(['xbos', 'at', 't_up', 'work', 't_up', 'being', 't_up', 'sad', 't_up', 'cuz', 'my', 't_up', 'arleenie', 'is', 't_up', 'leaving', 't_up', 'today']),\n",
       "       list(['xbos', 'xnametag', 'sad', 'news', '.', 'i', 'hope', 'no', 'one', 'loses', 'their', 'jobs', 'but', 'that', \"'s\", 'probably', 'being', 'naive', 'on', 'my', 'part', '.']),\n",
       "       list(['xbos', '9', 'am', '.', 'time', 'to', 'get', 'up'])], dtype=object)"
      ]
     },
     "execution_count": 28,
     "metadata": {},
     "output_type": "execute_result"
    }
   ],
   "source": [
    "tok_trn[-10:]"
   ]
  },
  {
   "cell_type": "code",
   "execution_count": 29,
   "metadata": {},
   "outputs": [],
   "source": [
    "trn_lm = np.array([[stoi[o] for o in p] for p in tok_trn])\n",
    "val_lm = np.array([[stoi[o] for o in p] for p in tok_val])\n",
    "tst_lm = np.array([[stoi[o] for o in p] for p in tok_tst])"
   ]
  },
  {
   "cell_type": "code",
   "execution_count": 30,
   "metadata": {},
   "outputs": [],
   "source": [
    "np.save(LM_PATH/\"tmp\"/\"trn_ids.npy\", trn_lm)\n",
    "np.save(LM_PATH/\"tmp\"/\"val_ids.npy\", val_lm)\n",
    "np.save(LM_PATH/\"tmp\"/\"tst_ids.npy\", tst_lm)\n",
    "pickle.dump(itos, open(LM_PATH/\"tmp\"/\"itos.pkl\",\"wb\"))"
   ]
  },
  {
   "cell_type": "code",
   "execution_count": 58,
   "metadata": {
    "init_cell": true
   },
   "outputs": [],
   "source": [
    "#necessary\n",
    "trn_lm = np.load(LM_PATH/\"tmp\"/\"trn_ids.npy\")\n",
    "val_lm = np.load(LM_PATH/\"tmp\"/\"val_ids.npy\")\n",
    "tst_lm = np.load(LM_PATH/\"tmp\"/\"tst_ids.npy\")\n",
    "itos = pickle.load(open(LM_PATH/\"tmp\"/\"itos.pkl\",\"rb\"))"
   ]
  },
  {
   "cell_type": "code",
   "execution_count": 59,
   "metadata": {
    "init_cell": true
   },
   "outputs": [
    {
     "data": {
      "text/plain": [
       "(19321, 640000, 80000, 80000)"
      ]
     },
     "execution_count": 59,
     "metadata": {},
     "output_type": "execute_result"
    }
   ],
   "source": [
    "#necessary\n",
    "vs = len(itos) #vocabsize\n",
    "vs, len(trn_lm), len(val_lm), len(tst_lm)"
   ]
  },
  {
   "cell_type": "markdown",
   "metadata": {},
   "source": [
    "Wikitext103"
   ]
  },
  {
   "cell_type": "code",
   "execution_count": 60,
   "metadata": {
    "init_cell": true
   },
   "outputs": [],
   "source": [
    "#necessary\n",
    "em_sz,nh,nl = 400,1150,3 #embedding, hidden_size, hidden_layer - values of original wikitext model"
   ]
  },
  {
   "cell_type": "code",
   "execution_count": 61,
   "metadata": {
    "init_cell": true
   },
   "outputs": [],
   "source": [
    "PRE_PATH = PATH/\"models\"/\"wt103basedsem140\"\n",
    "PRE_LM_PATH = PRE_PATH/\"wt103_based.h5\""
   ]
  },
  {
   "cell_type": "code",
   "execution_count": 62,
   "metadata": {
    "init_cell": true
   },
   "outputs": [],
   "source": [
    "wgts = torch.load(PRE_LM_PATH, map_location=lambda storage, loc: storage) #load wikitext weights"
   ]
  },
  {
   "cell_type": "code",
   "execution_count": 63,
   "metadata": {
    "init_cell": true
   },
   "outputs": [],
   "source": [
    "enc_wgts = to_np(wgts[\"0.encoder.weight\"])\n",
    "row_m = enc_wgts.mean(0) #mean used for unknown tokens"
   ]
  },
  {
   "cell_type": "markdown",
   "metadata": {},
   "source": [
    "Map Vocabularies on each other"
   ]
  },
  {
   "cell_type": "code",
   "execution_count": 64,
   "metadata": {
    "init_cell": true
   },
   "outputs": [
    {
     "data": {
      "text/plain": [
       "41813"
      ]
     },
     "execution_count": 64,
     "metadata": {},
     "output_type": "execute_result"
    }
   ],
   "source": [
    "itos2 = pickle.load((PRE_PATH/\"itos_sem140.pkl\").open(\"rb\"))\n",
    "stoi2 = collections.defaultdict(lambda:-1, {v:k for k,v in enumerate(itos2)})\n",
    "len(stoi2)"
   ]
  },
  {
   "cell_type": "code",
   "execution_count": 65,
   "metadata": {
    "init_cell": true
   },
   "outputs": [],
   "source": [
    "new_w = np.zeros((vs, em_sz), dtype=np.float32) #0-matrix vocab-size*embedding-size\n",
    "for i,w in enumerate(itos): #Go through vocab of turn dataset\n",
    "    r = stoi2[w]\n",
    "    new_w[i] = enc_wgts[r] if r>=0 else row_m #if word exists copy weight, otherwise average weight"
   ]
  },
  {
   "cell_type": "code",
   "execution_count": 66,
   "metadata": {
    "init_cell": true
   },
   "outputs": [],
   "source": [
    "wgts[\"0.encoder.weight\"] = T(new_w)\n",
    "wgts[\"0.encoder_with_dropout.embed.weight\"] = T(np.copy(new_w))\n",
    "wgts[\"1.decoder.weight\"] = T(np.copy(new_w))"
   ]
  },
  {
   "cell_type": "markdown",
   "metadata": {},
   "source": [
    "## Language Model"
   ]
  },
  {
   "cell_type": "code",
   "execution_count": 76,
   "metadata": {},
   "outputs": [],
   "source": [
    "wd = 1e-7\n",
    "bptt = 70\n",
    "bs = 80\n",
    "opt_fn = partial(optim.Adam, betas=(0.8, 0.99))"
   ]
  },
  {
   "cell_type": "code",
   "execution_count": 77,
   "metadata": {},
   "outputs": [],
   "source": [
    "trn_dl = LanguageModelLoader(np.concatenate(trn_lm), bs, bptt)\n",
    "val_dl = LanguageModelLoader(np.concatenate(val_lm), bs, bptt)\n",
    "tst_dl = LanguageModelLoader(np.concatenate(tst_lm), bs, bptt)\n",
    "md = LanguageModelData(PATH, 1, vs, trn_dl, val_dl, tst_dl, bs=bs, bptt=bptt)"
   ]
  },
  {
   "cell_type": "code",
   "execution_count": 78,
   "metadata": {},
   "outputs": [],
   "source": [
    "drops = np.array([0.25, 0.1, 0.2, 0.02, 0.15])*0.8 #1.8 smaller dataset = higher multiplicator"
   ]
  },
  {
   "cell_type": "code",
   "execution_count": 79,
   "metadata": {},
   "outputs": [],
   "source": [
    "md.trn_dl.data = md.trn_dl.data.long()\n",
    "md.val_dl.data = md.val_dl.data.long()\n",
    "md.test_dl.data = md.test_dl.data.long()"
   ]
  },
  {
   "cell_type": "markdown",
   "metadata": {},
   "source": [
    "Initialize missing tokens with mean weights. So freeze everything except last layer"
   ]
  },
  {
   "cell_type": "code",
   "execution_count": 80,
   "metadata": {},
   "outputs": [],
   "source": [
    "learner= md.get_model(opt_fn, em_sz, nh, nl, \n",
    "    dropouti=drops[0], dropout=drops[1], wdrop=drops[2], dropoute=drops[3], dropouth=drops[4])\n",
    "\n",
    "learner.metrics = [accuracy]\n",
    "learner.freeze_to(-1)"
   ]
  },
  {
   "cell_type": "code",
   "execution_count": 81,
   "metadata": {},
   "outputs": [],
   "source": [
    "learner.model.load_state_dict(wgts)"
   ]
  },
  {
   "cell_type": "code",
   "execution_count": 82,
   "metadata": {},
   "outputs": [
    {
     "data": {
      "application/vnd.jupyter.widget-view+json": {
       "model_id": "7db7b2f6bcb64bfba3ee973585c5cf5b",
       "version_major": 2,
       "version_minor": 0
      },
      "text/plain": [
       "HBox(children=(IntProgress(value=0, description='Epoch', max=1), HTML(value='')))"
      ]
     },
     "metadata": {},
     "output_type": "display_data"
    },
    {
     "name": "stdout",
     "output_type": "stream",
     "text": [
      " 26%|█████████████████▎                                                  | 500/1959 [02:10<06:36,  3.68it/s, loss=5.64]"
     ]
    },
    {
     "ename": "RuntimeError",
     "evalue": "Error(s) in loading state_dict for SequentialRNN:\n\tMissing key(s) in state_dict: \"0.rnns.0.module.weight_hh_l0\", \"0.rnns.1.module.weight_hh_l0\", \"0.rnns.2.module.weight_hh_l0\". ",
     "output_type": "error",
     "traceback": [
      "\u001b[1;31m---------------------------------------------------------------------------\u001b[0m",
      "\u001b[1;31mRuntimeError\u001b[0m                              Traceback (most recent call last)",
      "\u001b[1;32m<ipython-input-82-a199c28b5127>\u001b[0m in \u001b[0;36m<module>\u001b[1;34m()\u001b[0m\n\u001b[1;32m----> 1\u001b[1;33m \u001b[0mlearner\u001b[0m\u001b[1;33m.\u001b[0m\u001b[0mlr_find2\u001b[0m\u001b[1;33m(\u001b[0m\u001b[0mend_lr\u001b[0m\u001b[1;33m=\u001b[0m\u001b[1;36m0.1\u001b[0m\u001b[1;33m,\u001b[0m \u001b[0mwds\u001b[0m\u001b[1;33m=\u001b[0m\u001b[0mwd\u001b[0m\u001b[1;33m,\u001b[0m \u001b[0mnum_it\u001b[0m\u001b[1;33m=\u001b[0m\u001b[1;36m500\u001b[0m\u001b[1;33m,\u001b[0m \u001b[0mlinear\u001b[0m\u001b[1;33m=\u001b[0m\u001b[1;32mTrue\u001b[0m\u001b[1;33m)\u001b[0m\u001b[1;33m\u001b[0m\u001b[0m\n\u001b[0m",
      "\u001b[1;32m~\\Anaconda3\\lib\\site-packages\\fastai\\fastai\\learner.py\u001b[0m in \u001b[0;36mlr_find2\u001b[1;34m(self, start_lr, end_lr, num_it, wds, linear, stop_dv, **kwargs)\u001b[0m\n\u001b[0;32m    365\u001b[0m         \u001b[0mself\u001b[0m\u001b[1;33m.\u001b[0m\u001b[0msched\u001b[0m \u001b[1;33m=\u001b[0m \u001b[0mLR_Finder2\u001b[0m\u001b[1;33m(\u001b[0m\u001b[0mlayer_opt\u001b[0m\u001b[1;33m,\u001b[0m \u001b[0mnum_it\u001b[0m\u001b[1;33m,\u001b[0m \u001b[0mend_lr\u001b[0m\u001b[1;33m,\u001b[0m \u001b[0mlinear\u001b[0m\u001b[1;33m=\u001b[0m\u001b[0mlinear\u001b[0m\u001b[1;33m,\u001b[0m \u001b[0mmetrics\u001b[0m\u001b[1;33m=\u001b[0m\u001b[0mself\u001b[0m\u001b[1;33m.\u001b[0m\u001b[0mmetrics\u001b[0m\u001b[1;33m,\u001b[0m \u001b[0mstop_dv\u001b[0m\u001b[1;33m=\u001b[0m\u001b[0mstop_dv\u001b[0m\u001b[1;33m)\u001b[0m\u001b[1;33m\u001b[0m\u001b[0m\n\u001b[0;32m    366\u001b[0m         \u001b[0mself\u001b[0m\u001b[1;33m.\u001b[0m\u001b[0mfit_gen\u001b[0m\u001b[1;33m(\u001b[0m\u001b[0mself\u001b[0m\u001b[1;33m.\u001b[0m\u001b[0mmodel\u001b[0m\u001b[1;33m,\u001b[0m \u001b[0mself\u001b[0m\u001b[1;33m.\u001b[0m\u001b[0mdata\u001b[0m\u001b[1;33m,\u001b[0m \u001b[0mlayer_opt\u001b[0m\u001b[1;33m,\u001b[0m \u001b[0mnum_it\u001b[0m\u001b[1;33m//\u001b[0m\u001b[0mlen\u001b[0m\u001b[1;33m(\u001b[0m\u001b[0mself\u001b[0m\u001b[1;33m.\u001b[0m\u001b[0mdata\u001b[0m\u001b[1;33m.\u001b[0m\u001b[0mtrn_dl\u001b[0m\u001b[1;33m)\u001b[0m \u001b[1;33m+\u001b[0m \u001b[1;36m1\u001b[0m\u001b[1;33m,\u001b[0m \u001b[0mall_val\u001b[0m\u001b[1;33m=\u001b[0m\u001b[1;32mTrue\u001b[0m\u001b[1;33m,\u001b[0m \u001b[1;33m**\u001b[0m\u001b[0mkwargs\u001b[0m\u001b[1;33m)\u001b[0m\u001b[1;33m\u001b[0m\u001b[0m\n\u001b[1;32m--> 367\u001b[1;33m         \u001b[0mself\u001b[0m\u001b[1;33m.\u001b[0m\u001b[0mload\u001b[0m\u001b[1;33m(\u001b[0m\u001b[1;34m'tmp'\u001b[0m\u001b[1;33m)\u001b[0m\u001b[1;33m\u001b[0m\u001b[0m\n\u001b[0m\u001b[0;32m    368\u001b[0m \u001b[1;33m\u001b[0m\u001b[0m\n\u001b[0;32m    369\u001b[0m     \u001b[1;32mdef\u001b[0m \u001b[0mpredict\u001b[0m\u001b[1;33m(\u001b[0m\u001b[0mself\u001b[0m\u001b[1;33m,\u001b[0m \u001b[0mis_test\u001b[0m\u001b[1;33m=\u001b[0m\u001b[1;32mFalse\u001b[0m\u001b[1;33m,\u001b[0m \u001b[0muse_swa\u001b[0m\u001b[1;33m=\u001b[0m\u001b[1;32mFalse\u001b[0m\u001b[1;33m)\u001b[0m\u001b[1;33m:\u001b[0m\u001b[1;33m\u001b[0m\u001b[0m\n",
      "\u001b[1;32m~\\Anaconda3\\lib\\site-packages\\fastai\\fastai\\learner.py\u001b[0m in \u001b[0;36mload\u001b[1;34m(self, name)\u001b[0m\n\u001b[0;32m    103\u001b[0m \u001b[1;33m\u001b[0m\u001b[0m\n\u001b[0;32m    104\u001b[0m     \u001b[1;32mdef\u001b[0m \u001b[0mload\u001b[0m\u001b[1;33m(\u001b[0m\u001b[0mself\u001b[0m\u001b[1;33m,\u001b[0m \u001b[0mname\u001b[0m\u001b[1;33m)\u001b[0m\u001b[1;33m:\u001b[0m\u001b[1;33m\u001b[0m\u001b[0m\n\u001b[1;32m--> 105\u001b[1;33m         \u001b[0mload_model\u001b[0m\u001b[1;33m(\u001b[0m\u001b[0mself\u001b[0m\u001b[1;33m.\u001b[0m\u001b[0mmodel\u001b[0m\u001b[1;33m,\u001b[0m \u001b[0mself\u001b[0m\u001b[1;33m.\u001b[0m\u001b[0mget_model_path\u001b[0m\u001b[1;33m(\u001b[0m\u001b[0mname\u001b[0m\u001b[1;33m)\u001b[0m\u001b[1;33m)\u001b[0m\u001b[1;33m\u001b[0m\u001b[0m\n\u001b[0m\u001b[0;32m    106\u001b[0m         \u001b[1;32mif\u001b[0m \u001b[0mhasattr\u001b[0m\u001b[1;33m(\u001b[0m\u001b[0mself\u001b[0m\u001b[1;33m,\u001b[0m \u001b[1;34m'swa_model'\u001b[0m\u001b[1;33m)\u001b[0m\u001b[1;33m:\u001b[0m \u001b[0mload_model\u001b[0m\u001b[1;33m(\u001b[0m\u001b[0mself\u001b[0m\u001b[1;33m.\u001b[0m\u001b[0mswa_model\u001b[0m\u001b[1;33m,\u001b[0m \u001b[0mself\u001b[0m\u001b[1;33m.\u001b[0m\u001b[0mget_model_path\u001b[0m\u001b[1;33m(\u001b[0m\u001b[0mname\u001b[0m\u001b[1;33m)\u001b[0m\u001b[1;33m[\u001b[0m\u001b[1;33m:\u001b[0m\u001b[1;33m-\u001b[0m\u001b[1;36m3\u001b[0m\u001b[1;33m]\u001b[0m\u001b[1;33m+\u001b[0m\u001b[1;34m'-swa.h5'\u001b[0m\u001b[1;33m)\u001b[0m\u001b[1;33m\u001b[0m\u001b[0m\n\u001b[0;32m    107\u001b[0m \u001b[1;33m\u001b[0m\u001b[0m\n",
      "\u001b[1;32m~\\Anaconda3\\lib\\site-packages\\fastai\\fastai\\torch_imports.py\u001b[0m in \u001b[0;36mload_model\u001b[1;34m(m, p)\u001b[0m\n\u001b[0;32m     38\u001b[0m             \u001b[1;32mif\u001b[0m \u001b[0mn\u001b[0m\u001b[1;33m+\u001b[0m\u001b[1;34m'_raw'\u001b[0m \u001b[1;32mnot\u001b[0m \u001b[1;32min\u001b[0m \u001b[0msd\u001b[0m\u001b[1;33m:\u001b[0m \u001b[0msd\u001b[0m\u001b[1;33m[\u001b[0m\u001b[0mn\u001b[0m\u001b[1;33m+\u001b[0m\u001b[1;34m'_raw'\u001b[0m\u001b[1;33m]\u001b[0m \u001b[1;33m=\u001b[0m \u001b[0msd\u001b[0m\u001b[1;33m[\u001b[0m\u001b[0mn\u001b[0m\u001b[1;33m]\u001b[0m\u001b[1;33m\u001b[0m\u001b[0m\n\u001b[0;32m     39\u001b[0m             \u001b[1;32mdel\u001b[0m \u001b[0msd\u001b[0m\u001b[1;33m[\u001b[0m\u001b[0mn\u001b[0m\u001b[1;33m]\u001b[0m\u001b[1;33m\u001b[0m\u001b[0m\n\u001b[1;32m---> 40\u001b[1;33m     \u001b[0mm\u001b[0m\u001b[1;33m.\u001b[0m\u001b[0mload_state_dict\u001b[0m\u001b[1;33m(\u001b[0m\u001b[0msd\u001b[0m\u001b[1;33m)\u001b[0m\u001b[1;33m\u001b[0m\u001b[0m\n\u001b[0m\u001b[0;32m     41\u001b[0m \u001b[1;33m\u001b[0m\u001b[0m\n\u001b[0;32m     42\u001b[0m \u001b[1;32mdef\u001b[0m \u001b[0mload_pre\u001b[0m\u001b[1;33m(\u001b[0m\u001b[0mpre\u001b[0m\u001b[1;33m,\u001b[0m \u001b[0mf\u001b[0m\u001b[1;33m,\u001b[0m \u001b[0mfn\u001b[0m\u001b[1;33m)\u001b[0m\u001b[1;33m:\u001b[0m\u001b[1;33m\u001b[0m\u001b[0m\n",
      "\u001b[1;32m~\\Anaconda3\\lib\\site-packages\\torch\\nn\\modules\\module.py\u001b[0m in \u001b[0;36mload_state_dict\u001b[1;34m(self, state_dict, strict)\u001b[0m\n\u001b[0;32m    717\u001b[0m         \u001b[1;32mif\u001b[0m \u001b[0mlen\u001b[0m\u001b[1;33m(\u001b[0m\u001b[0merror_msgs\u001b[0m\u001b[1;33m)\u001b[0m \u001b[1;33m>\u001b[0m \u001b[1;36m0\u001b[0m\u001b[1;33m:\u001b[0m\u001b[1;33m\u001b[0m\u001b[0m\n\u001b[0;32m    718\u001b[0m             raise RuntimeError('Error(s) in loading state_dict for {}:\\n\\t{}'.format(\n\u001b[1;32m--> 719\u001b[1;33m                                self.__class__.__name__, \"\\n\\t\".join(error_msgs)))\n\u001b[0m\u001b[0;32m    720\u001b[0m \u001b[1;33m\u001b[0m\u001b[0m\n\u001b[0;32m    721\u001b[0m     \u001b[1;32mdef\u001b[0m \u001b[0mparameters\u001b[0m\u001b[1;33m(\u001b[0m\u001b[0mself\u001b[0m\u001b[1;33m)\u001b[0m\u001b[1;33m:\u001b[0m\u001b[1;33m\u001b[0m\u001b[0m\n",
      "\u001b[1;31mRuntimeError\u001b[0m: Error(s) in loading state_dict for SequentialRNN:\n\tMissing key(s) in state_dict: \"0.rnns.0.module.weight_hh_l0\", \"0.rnns.1.module.weight_hh_l0\", \"0.rnns.2.module.weight_hh_l0\". "
     ]
    }
   ],
   "source": [
    "learner.lr_find2(end_lr=0.1, wds=wd, num_it=500, linear=True)"
   ]
  },
  {
   "cell_type": "code",
   "execution_count": 83,
   "metadata": {},
   "outputs": [
    {
     "data": {
      "image/png": "[encoded data removed]",
      "text/plain": [
       "<Figure size 432x864 with 3 Axes>"
      ]
     },
     "metadata": {},
     "output_type": "display_data"
    }
   ],
   "source": [
    "learner.sched.plot()"
   ]
  },
  {
   "cell_type": "code",
   "execution_count": 84,
   "metadata": {},
   "outputs": [],
   "source": [
    "lrs = 0.03"
   ]
  },
  {
   "cell_type": "code",
   "execution_count": 85,
   "metadata": {},
   "outputs": [
    {
     "data": {
      "application/vnd.jupyter.widget-view+json": {
       "model_id": "ce92d87e8fe6472895df1bf94fcfe421",
       "version_major": 2,
       "version_minor": 0
      },
      "text/plain": [
       "HBox(children=(IntProgress(value=0, description='Epoch', max=1), HTML(value='')))"
      ]
     },
     "metadata": {},
     "output_type": "display_data"
    },
    {
     "name": "stdout",
     "output_type": "stream",
     "text": [
      "epoch      trn_loss   val_loss   accuracy                                                                              \n",
      "    0      4.306187   4.004998   0.278409  \n"
     ]
    },
    {
     "data": {
      "text/plain": [
       "[4.004997570983699, 0.2784088160537305]"
      ]
     },
     "execution_count": 85,
     "metadata": {},
     "output_type": "execute_result"
    }
   ],
   "source": [
    "learner.fit(lrs/2, 1, wds=wd, use_clr=(32,2), cycle_len=1)"
   ]
  },
  {
   "cell_type": "code",
   "execution_count": 86,
   "metadata": {},
   "outputs": [],
   "source": [
    "learner.save('lm_last_ft')"
   ]
  },
  {
   "cell_type": "code",
   "execution_count": 87,
   "metadata": {},
   "outputs": [],
   "source": [
    "learner.load('lm_last_ft')"
   ]
  },
  {
   "cell_type": "code",
   "execution_count": 88,
   "metadata": {},
   "outputs": [],
   "source": [
    "learner.unfreeze()"
   ]
  },
  {
   "cell_type": "code",
   "execution_count": 89,
   "metadata": {
    "scrolled": true
   },
   "outputs": [
    {
     "data": {
      "application/vnd.jupyter.widget-view+json": {
       "model_id": "ae36b16d3b8c4c9dbdc297c2d58755e4",
       "version_major": 2,
       "version_minor": 0
      },
      "text/plain": [
       "HBox(children=(IntProgress(value=0, description='Epoch', max=1), HTML(value='')))"
      ]
     },
     "metadata": {},
     "output_type": "display_data"
    },
    {
     "name": "stdout",
     "output_type": "stream",
     "text": [
      " 26%|█████████████████▎                                                  | 500/1959 [02:30<07:35,  3.20it/s, loss=4.25]"
     ]
    }
   ],
   "source": [
    "learner.lr_find2(end_lr=0.002, wds=wd, num_it=500, linear=True)"
   ]
  },
  {
   "cell_type": "code",
   "execution_count": 90,
   "metadata": {},
   "outputs": [
    {
     "data": {
      "image/png": "[encoded data removed]",
      "text/plain": [
       "<Figure size 432x864 with 3 Axes>"
      ]
     },
     "metadata": {},
     "output_type": "display_data"
    }
   ],
   "source": [
    "learner.sched.plot()"
   ]
  },
  {
   "cell_type": "code",
   "execution_count": 91,
   "metadata": {},
   "outputs": [],
   "source": [
    "lrs = 0.00125"
   ]
  },
  {
   "cell_type": "code",
   "execution_count": 92,
   "metadata": {
    "scrolled": false
   },
   "outputs": [
    {
     "data": {
      "application/vnd.jupyter.widget-view+json": {
       "model_id": "770f48455ac344ffa9890bd1ecc77a69",
       "version_major": 2,
       "version_minor": 0
      },
      "text/plain": [
       "HBox(children=(IntProgress(value=0, description='Epoch', max=10), HTML(value='')))"
      ]
     },
     "metadata": {},
     "output_type": "display_data"
    },
    {
     "name": "stdout",
     "output_type": "stream",
     "text": [
      "epoch      trn_loss   val_loss   accuracy                                                                              \n",
      "    0      4.172985   3.953026   0.283411  \n",
      "    1      4.101919   3.939143   0.285057                                                                              \n",
      "    2      4.063137   3.929169   0.286144                                                                              \n",
      "    3      4.021761   3.925087   0.286555                                                                              \n",
      "    4      4.000399   3.919367   0.287286                                                                              \n",
      "    5      3.982218   3.917304   0.287781                                                                              \n",
      "    6      3.961588   3.913133   0.288097                                                                              \n",
      "    7      3.966608   3.910996   0.288408                                                                              \n",
      "    8      3.924176   3.909048   0.288829                                                                              \n",
      "    9      3.918884   3.906935   0.289112                                                                              \n"
     ]
    },
    {
     "data": {
      "text/plain": [
       "[3.9069345476197417, 0.2891124366003959]"
      ]
     },
     "execution_count": 92,
     "metadata": {},
     "output_type": "execute_result"
    }
   ],
   "source": [
    "learner.fit(lrs, 1, wds=wd, use_clr=(20,10), cycle_len=10)"
   ]
  },
  {
   "cell_type": "code",
   "execution_count": 93,
   "metadata": {},
   "outputs": [],
   "source": [
    "learner.save(\"lm1\")"
   ]
  },
  {
   "cell_type": "code",
   "execution_count": 94,
   "metadata": {},
   "outputs": [],
   "source": [
    "learner.save_encoder(\"lm1_enc\")"
   ]
  },
  {
   "cell_type": "code",
   "execution_count": 95,
   "metadata": {
    "scrolled": true
   },
   "outputs": [
    {
     "data": {
      "image/png": "[encoded data removed]",
      "text/plain": [
       "<Figure size 432x288 with 1 Axes>"
      ]
     },
     "metadata": {},
     "output_type": "display_data"
    }
   ],
   "source": [
    "learner.sched.plot_loss()"
   ]
  },
  {
   "cell_type": "code",
   "execution_count": 96,
   "metadata": {},
   "outputs": [
    {
     "data": {
      "image/png": "[encoded data removed]",
      "text/plain": [
       "<Figure size 432x288 with 1 Axes>"
      ]
     },
     "metadata": {},
     "output_type": "display_data"
    }
   ],
   "source": [
    "learner.sched.plot_lr()"
   ]
  },
  {
   "cell_type": "code",
   "execution_count": 97,
   "metadata": {},
   "outputs": [],
   "source": [
    "df_trn = pd.read_csv(CLAS_PATH/\"train.csv\", header=None, chunksize=chunksize)\n",
    "df_val = pd.read_csv(CLAS_PATH/\"test.csv\", header=None, chunksize=chunksize)\n",
    "df_tst = pd.read_csv(CLAS_PATH/\"tst.csv\", header=None, chunksize=chunksize)"
   ]
  },
  {
   "cell_type": "code",
   "execution_count": 66,
   "metadata": {},
   "outputs": [
    {
     "name": "stdout",
     "output_type": "stream",
     "text": [
      "0\n",
      "1\n",
      "2\n",
      "3\n",
      "4\n",
      "5\n",
      "6\n",
      "0\n",
      "0\n"
     ]
    }
   ],
   "source": [
    "tok_trn, trn_labels = get_all(df_trn, 1)\n",
    "tok_val, val_labels = get_all(df_val, 1)\n",
    "tol_tst, tst_labels = get_all(df_tst, 1)"
   ]
  },
  {
   "cell_type": "code",
   "execution_count": 67,
   "metadata": {},
   "outputs": [],
   "source": [
    "(CLAS_PATH/\"tmp\").mkdir(exist_ok=True)\n",
    "\n",
    "np.save(CLAS_PATH/\"tmp\"/\"tok_trn.npy\", tok_trn)\n",
    "np.save(CLAS_PATH/\"tmp\"/\"tok_val.npy\", tok_val)\n",
    "np.save(CLAS_PATH/\"tmp\"/\"tok_tst.npy\", tok_tst)\n",
    "\n",
    "np.save(CLAS_PATH/\"tmp\"/\"trn_labels.npy\", trn_labels)\n",
    "np.save(CLAS_PATH/\"tmp\"/\"val_labels.npy\", val_labels)\n",
    "np.save(CLAS_PATH/\"tmp\"/\"tst_labels.npy\", tst_labels)"
   ]
  },
  {
   "cell_type": "code",
   "execution_count": 98,
   "metadata": {
    "init_cell": true
   },
   "outputs": [],
   "source": [
    "#necessary\n",
    "tok_trn = np.load(CLAS_PATH/'tmp'/'tok_trn.npy')\n",
    "tok_val = np.load(CLAS_PATH/'tmp'/'tok_val.npy')\n",
    "tok_tst = np.load(CLAS_PATH/\"tmp\"/\"tok_tst.npy\")"
   ]
  },
  {
   "cell_type": "code",
   "execution_count": 99,
   "metadata": {
    "init_cell": true
   },
   "outputs": [
    {
     "data": {
      "text/plain": [
       "19321"
      ]
     },
     "execution_count": 99,
     "metadata": {},
     "output_type": "execute_result"
    }
   ],
   "source": [
    "#Necessary\n",
    "itos = pickle.load((LM_PATH/\"tmp\"/\"itos.pkl\").open(\"rb\"))\n",
    "stoi = collections.defaultdict(lambda:0, {v:k for k,v in enumerate(itos)})\n",
    "len(itos)"
   ]
  },
  {
   "cell_type": "code",
   "execution_count": 100,
   "metadata": {},
   "outputs": [],
   "source": [
    "trn_clas = np.array([[stoi[o] for o in p] for p in tok_trn])\n",
    "val_clas = np.array([[stoi[o] for o in p] for p in tok_val])\n",
    "tst_clas = np.array([[stoi[o] for o in p] for p in tok_tst])"
   ]
  },
  {
   "cell_type": "code",
   "execution_count": 101,
   "metadata": {},
   "outputs": [],
   "source": [
    "np.save(CLAS_PATH/\"tmp\"/\"trn_ids.npy\", trn_clas)\n",
    "np.save(CLAS_PATH/\"tmp\"/\"val_ids.npy\", val_clas)\n",
    "np.save(CLAS_PATH/\"tmp\"/\"tst_ids.npy\", tst_clas)"
   ]
  },
  {
   "cell_type": "markdown",
   "metadata": {},
   "source": [
    "## Classifier"
   ]
  },
  {
   "cell_type": "code",
   "execution_count": 102,
   "metadata": {
    "init_cell": true
   },
   "outputs": [],
   "source": [
    "#Necessary\n",
    "trn_clas = np.load(CLAS_PATH/'tmp'/'trn_ids.npy')\n",
    "val_clas = np.load(CLAS_PATH/'tmp'/'val_ids.npy')\n",
    "tst_clas = np.load(CLAS_PATH/\"tmp\"/\"tst_ids.npy\")"
   ]
  },
  {
   "cell_type": "code",
   "execution_count": 103,
   "metadata": {
    "init_cell": true
   },
   "outputs": [],
   "source": [
    "#Necessary\n",
    "trn_labels = np.squeeze(np.load(CLAS_PATH/'tmp'/'trn_labels.npy'))\n",
    "val_labels = np.squeeze(np.load(CLAS_PATH/'tmp'/'val_labels.npy'))\n",
    "tst_labels = np.squeeze(np.load(CLAS_PATH/\"tmp\"/\"tst_labels.npy\"))"
   ]
  },
  {
   "cell_type": "code",
   "execution_count": 104,
   "metadata": {},
   "outputs": [],
   "source": [
    "#Necessary\n",
    "bptt,em_sz,nh,nl = 70,400,1150,3\n",
    "vs = len(itos)\n",
    "opt_fn = partial(optim.Adam, betas=(0.8, 0.99))\n",
    "bs = 100"
   ]
  },
  {
   "cell_type": "code",
   "execution_count": 105,
   "metadata": {},
   "outputs": [],
   "source": [
    "#Necessary\n",
    "min_lbl = trn_labels.min()\n",
    "trn_labels -= min_lbl\n",
    "val_labels -= min_lbl\n",
    "tst_labels -= min_lbl\n",
    "c=int(trn_labels.max())+1"
   ]
  },
  {
   "cell_type": "code",
   "execution_count": 106,
   "metadata": {},
   "outputs": [],
   "source": [
    "#Necessary\n",
    "trn_ds = TextDataset(trn_clas, trn_labels)\n",
    "val_ds = TextDataset(val_clas, val_labels)\n",
    "tst_ds = TextDataset(tst_clas, tst_labels)\n",
    "trn_samp = SortishSampler(trn_clas, key=lambda x: len(trn_clas[x]), bs=bs//2)\n",
    "val_samp = SortSampler(val_clas, key=lambda x: len(val_clas[x]))  #sorts dataset by length to reduce too strongly padded tensors\n",
    "tst_samp = SortSampler(tst_clas, key=lambda x: len(tst_clas[x]))\n",
    "trn_dl = DataLoader(trn_ds, bs//2, transpose=True, num_workers=1, pad_idx=1, sampler=trn_samp)\n",
    "val_dl = DataLoader(val_ds, bs, transpose=True, num_workers=1, pad_idx=1, sampler=val_samp)\n",
    "tst_dl = DataLoader(tst_ds, bs, transpose=True, num_workers=1, pad_idx=1)\n",
    "md = ModelData(PATH, trn_dl, val_dl, tst_dl)"
   ]
  },
  {
   "cell_type": "code",
   "execution_count": 107,
   "metadata": {},
   "outputs": [],
   "source": [
    "#Necessary\n",
    "dps = np.array([0.25, 0.1, 0.2, 0.02, 0.15])*1"
   ]
  },
  {
   "cell_type": "code",
   "execution_count": 108,
   "metadata": {},
   "outputs": [],
   "source": [
    "#Necessary\n",
    "m = get_rnn_classifier(bptt, 20*70, c, vs, emb_sz=em_sz, n_hid=nh, n_layers=nl, pad_token=1,\n",
    "                       layers=[em_sz*3, 50,c], drops=[dps[4], 0.2],\n",
    "                      dropouti=dps[0], wdrop=dps[1], dropoute=dps[2], dropouth=dps[3])\n",
    "#check dropout layers"
   ]
  },
  {
   "cell_type": "code",
   "execution_count": 109,
   "metadata": {},
   "outputs": [],
   "source": [
    "#Necessary\n",
    "learn = RNN_Learner(md, TextModel(to_gpu(m)), opt_fn=opt_fn)\n",
    "learn.reg_fn = partial(seq2seq_reg, alpha=2, beta=1)\n",
    "learn.clip=.12\n",
    "learn.metrics = [accuracy]\n",
    "loss_weights = torch.FloatTensor(rtd_avg_weights).cuda()\n",
    "learn.crit = partial(F.cross_entropy, weight=loss_weights)"
   ]
  },
  {
   "cell_type": "code",
   "execution_count": 110,
   "metadata": {},
   "outputs": [],
   "source": [
    "wd = 1e-7\n",
    "learn.load_encoder(\"lm1_enc\")"
   ]
  },
  {
   "cell_type": "code",
   "execution_count": 111,
   "metadata": {},
   "outputs": [],
   "source": [
    "learn.unfreeze()"
   ]
  },
  {
   "cell_type": "code",
   "execution_count": 112,
   "metadata": {
    "scrolled": true
   },
   "outputs": [
    {
     "data": {
      "application/vnd.jupyter.widget-view+json": {
       "model_id": "b4befbfa3a1046a88e5fd616abc17d8b",
       "version_major": 2,
       "version_minor": 0
      },
      "text/plain": [
       "HBox(children=(IntProgress(value=0, description='Epoch', max=1), HTML(value='')))"
      ]
     },
     "metadata": {},
     "output_type": "display_data"
    },
    {
     "name": "stdout",
     "output_type": "stream",
     "text": [
      "  4%|██▌                                                               | 499/12800 [00:46<16:56, 12.10it/s, loss=0.525]"
     ]
    },
    {
     "data": {
      "image/png": "[encoded data removed]",
      "text/plain": [
       "<Figure size 432x864 with 3 Axes>"
      ]
     },
     "metadata": {},
     "output_type": "display_data"
    }
   ],
   "source": [
    "learn.lr_find2(end_lr=1e-2, wds=wd, num_it=500, linear=True)\n",
    "learn.sched.plot()"
   ]
  },
  {
   "cell_type": "code",
   "execution_count": 113,
   "metadata": {},
   "outputs": [],
   "source": [
    "lrs = 0.004"
   ]
  },
  {
   "cell_type": "code",
   "execution_count": 114,
   "metadata": {},
   "outputs": [],
   "source": [
    "learn.freeze_to(-1)"
   ]
  },
  {
   "cell_type": "code",
   "execution_count": 115,
   "metadata": {},
   "outputs": [
    {
     "data": {
      "application/vnd.jupyter.widget-view+json": {
       "model_id": "3a5342cd4133498993e7bdcd6da8c1a7",
       "version_major": 2,
       "version_minor": 0
      },
      "text/plain": [
       "HBox(children=(IntProgress(value=0, description='Epoch', max=1), HTML(value='')))"
      ]
     },
     "metadata": {},
     "output_type": "display_data"
    },
    {
     "name": "stdout",
     "output_type": "stream",
     "text": [
      "epoch      trn_loss   val_loss   accuracy                                                                              \n",
      "    0      0.470494   0.393398   0.8215    \n"
     ]
    },
    {
     "data": {
      "text/plain": [
       "[0.39339755786582825, 0.821499979197979]"
      ]
     },
     "execution_count": 115,
     "metadata": {},
     "output_type": "execute_result"
    }
   ],
   "source": [
    "learn.fit(lrs, 1, wds=wd, use_wd_sched=True, cycle_len=1, use_clr_beta=(10,10,0.95,0.85), best_save_name='best_lm1')"
   ]
  },
  {
   "cell_type": "code",
   "execution_count": 116,
   "metadata": {},
   "outputs": [],
   "source": [
    "learn.save('clas_0')"
   ]
  },
  {
   "cell_type": "code",
   "execution_count": 117,
   "metadata": {},
   "outputs": [],
   "source": [
    "learn.load('clas_0')"
   ]
  },
  {
   "cell_type": "code",
   "execution_count": 118,
   "metadata": {},
   "outputs": [],
   "source": [
    "learn.freeze_to(-2)"
   ]
  },
  {
   "cell_type": "code",
   "execution_count": 119,
   "metadata": {},
   "outputs": [
    {
     "data": {
      "application/vnd.jupyter.widget-view+json": {
       "model_id": "14df0bf20e884a54bc814cd61a37b69e",
       "version_major": 2,
       "version_minor": 0
      },
      "text/plain": [
       "HBox(children=(IntProgress(value=0, description='Epoch', max=1), HTML(value='')))"
      ]
     },
     "metadata": {},
     "output_type": "display_data"
    },
    {
     "name": "stdout",
     "output_type": "stream",
     "text": [
      "epoch      trn_loss   val_loss   accuracy                                                                              \n",
      "    0      0.429594   0.352087   0.846325  \n"
     ]
    },
    {
     "data": {
      "text/plain": [
       "[0.3520873392932117, 0.8463249785453081]"
      ]
     },
     "execution_count": 119,
     "metadata": {},
     "output_type": "execute_result"
    }
   ],
   "source": [
    "learn.fit(lrs, 1, wds=wd, use_wd_sched=True, cycle_len=1, use_clr_beta=(10,10,0.95,0.85), best_save_name='best_lm2')"
   ]
  },
  {
   "cell_type": "code",
   "execution_count": 120,
   "metadata": {},
   "outputs": [],
   "source": [
    "learn.save('clas_1')"
   ]
  },
  {
   "cell_type": "code",
   "execution_count": 121,
   "metadata": {},
   "outputs": [],
   "source": [
    "learn.load('clas_1')"
   ]
  },
  {
   "cell_type": "code",
   "execution_count": 122,
   "metadata": {},
   "outputs": [],
   "source": [
    "learn.unfreeze()"
   ]
  },
  {
   "cell_type": "code",
   "execution_count": 123,
   "metadata": {},
   "outputs": [
    {
     "data": {
      "application/vnd.jupyter.widget-view+json": {
       "model_id": "098fe31f96c048749dc3800e891a4f37",
       "version_major": 2,
       "version_minor": 0
      },
      "text/plain": [
       "HBox(children=(IntProgress(value=0, description='Epoch', max=1), HTML(value='')))"
      ]
     },
     "metadata": {},
     "output_type": "display_data"
    },
    {
     "name": "stdout",
     "output_type": "stream",
     "text": [
      "  4%|██▌                                                               | 499/12800 [00:41<15:12, 13.48it/s, loss=0.443]"
     ]
    },
    {
     "data": {
      "image/png": "[encoded data removed]",
      "text/plain": [
       "<Figure size 432x864 with 3 Axes>"
      ]
     },
     "metadata": {},
     "output_type": "display_data"
    }
   ],
   "source": [
    "learn.lr_find2(end_lr=5e-3, num_it=500, wds=wd)\n",
    "learn.sched.plot()"
   ]
  },
  {
   "cell_type": "code",
   "execution_count": 124,
   "metadata": {},
   "outputs": [],
   "source": [
    "lrs = 0.0001"
   ]
  },
  {
   "cell_type": "code",
   "execution_count": 125,
   "metadata": {
    "scrolled": true
   },
   "outputs": [
    {
     "data": {
      "application/vnd.jupyter.widget-view+json": {
       "model_id": "17b7316f6ebf4d3499d1cadd6a45031d",
       "version_major": 2,
       "version_minor": 0
      },
      "text/plain": [
       "HBox(children=(IntProgress(value=0, description='Epoch', max=10), HTML(value='')))"
      ]
     },
     "metadata": {},
     "output_type": "display_data"
    },
    {
     "name": "stdout",
     "output_type": "stream",
     "text": [
      "epoch      trn_loss   val_loss   accuracy                                                                              \n",
      "    0      0.408386   0.34828    0.847325  \n",
      "    1      0.417705   0.343815   0.850237                                                                              \n",
      "    2      0.403198   0.340627   0.852262                                                                              \n",
      "    3      0.39157    0.33885    0.852587                                                                              \n",
      "    4      0.372448   0.334468   0.856337                                                                              \n",
      "    5      0.383777   0.333955   0.8571                                                                                \n",
      "    6      0.365283   0.333456   0.8568                                                                                \n",
      "    7      0.359874   0.335268   0.856987                                                                              \n",
      "    8      0.381663   0.335174   0.857625                                                                              \n",
      "    9      0.357737   0.334198   0.857675                                                                              \n"
     ]
    },
    {
     "data": {
      "text/plain": [
       "[0.3341981138661504, 0.8576749792695045]"
      ]
     },
     "execution_count": 125,
     "metadata": {},
     "output_type": "execute_result"
    }
   ],
   "source": [
    "learn.fit(lrs, 1, wds=wd, use_wd_sched=True, cycle_len=10, use_clr_beta=(10,10,0.95,0.85), best_save_name='best_classifier')"
   ]
  },
  {
   "cell_type": "code",
   "execution_count": 126,
   "metadata": {},
   "outputs": [
    {
     "data": {
      "image/png": "[encoded data removed]",
      "text/plain": [
       "<Figure size 432x288 with 1 Axes>"
      ]
     },
     "metadata": {},
     "output_type": "display_data"
    }
   ],
   "source": [
    "learn.sched.plot_loss()"
   ]
  },
  {
   "cell_type": "code",
   "execution_count": 127,
   "metadata": {},
   "outputs": [],
   "source": [
    "learn.save('clas_2')"
   ]
  },
  {
   "cell_type": "code",
   "execution_count": 128,
   "metadata": {},
   "outputs": [],
   "source": [
    "learn.load(\"clas_2\")"
   ]
  },
  {
   "cell_type": "code",
   "execution_count": 129,
   "metadata": {},
   "outputs": [
    {
     "name": "stdout",
     "output_type": "stream",
     "text": [
      "Accuracy = 0.857675 , \n",
      "Confusion Matrix =\n",
      "[[34612  5496]\n",
      " [ 5890 34002]]\n",
      "F-Score:  0.8576696549407192\n",
      "Sem-eval F-Score:  0.857675\n",
      "             precision    recall  f1-score   support\n",
      "\n",
      "          0       0.85      0.86      0.86     40108\n",
      "          1       0.86      0.85      0.86     39892\n",
      "\n",
      "avg / total       0.86      0.86      0.86     80000\n",
      "\n"
     ]
    }
   ],
   "source": [
    "val_lbls = np.load(CLAS_PATH/'tmp'/'val_labels.npy').flatten()\n",
    "val_lbls_sampled = val_lbls[list(val_samp)]\n",
    "predictions = np.argmax(learn.predict(), axis=1)\n",
    "acc = (val_lbls_sampled == predictions).mean()\n",
    "print(\"Accuracy =\", acc, \", \\nConfusion Matrix =\")\n",
    "clas_labels = [0,1]\n",
    "print(confusion_matrix(val_lbls_sampled, predictions, labels=clas_labels))\n",
    "print(\"F-Score: \", f1_score(val_lbls_sampled, predictions, average=\"weighted\"))\n",
    "print(\"Sem-eval F-Score: \", f1_score(val_lbls_sampled, predictions, labels=[0,1], average=\"micro\"))\n",
    "\n",
    "\n",
    "print(classification_report(val_lbls_sampled, predictions))\n"
   ]
  },
  {
   "cell_type": "code",
   "execution_count": 130,
   "metadata": {},
   "outputs": [
    {
     "name": "stdout",
     "output_type": "stream",
     "text": [
      "Accuracy = 0.8566625 , \n",
      "Confusion Matrix =\n",
      "[[35194  4914]\n",
      " [ 6553 33339]]\n",
      "F-Score:  0.856594370330104\n",
      "Sem-eval F-Score:  0.8566625000000001\n",
      "             precision    recall  f1-score   support\n",
      "\n",
      "          0       0.84      0.88      0.86     40108\n",
      "          1       0.87      0.84      0.85     39892\n",
      "\n",
      "avg / total       0.86      0.86      0.86     80000\n",
      "\n"
     ]
    }
   ],
   "source": [
    "tst_lbls_sampled = np.load(CLAS_PATH/'tmp'/'tst_labels.npy').flatten()\n",
    "#tst_lbls_sampled = tst_lbls[list(tst_samp)]\n",
    "predictions = np.argmax(learn.predict(True), axis=1)\n",
    "acc = (tst_lbls_sampled == predictions).mean()\n",
    "print(\"Accuracy =\", acc, \", \\nConfusion Matrix =\")\n",
    "clas_labels = [0,1]\n",
    "print(confusion_matrix(tst_lbls_sampled, predictions, labels=clas_labels))\n",
    "print(\"F-Score: \", f1_score(tst_lbls_sampled, predictions, average=\"weighted\"))\n",
    "print(\"Sem-eval F-Score: \", f1_score(tst_lbls_sampled, predictions, labels=[0,1], average=\"micro\"))\n",
    "\n",
    "\n",
    "print(classification_report(tst_lbls_sampled, predictions))"
   ]
  },
  {
   "cell_type": "markdown",
   "metadata": {},
   "source": [
    "## Submission"
   ]
  },
  {
   "cell_type": "markdown",
   "metadata": {},
   "source": [
    "### Classifier weight tuning"
   ]
  },
  {
   "cell_type": "code",
   "execution_count": 131,
   "metadata": {},
   "outputs": [
    {
     "data": {
      "text/plain": [
       "[1.0, 0.9954478845134539]"
      ]
     },
     "execution_count": 131,
     "metadata": {},
     "output_type": "execute_result"
    }
   ],
   "source": [
    "x = [1,1] #[0.3,0.5,1.5,1]\n",
    "rtd_avg_weights_clas = [x[i]/value for i, value in enumerate(rtd_avg_weights)]\n",
    "rtd_avg_weights_clas"
   ]
  },
  {
   "cell_type": "code",
   "execution_count": 132,
   "metadata": {},
   "outputs": [
    {
     "data": {
      "text/plain": [
       "(array([1, 1, 1, 1, 0, 1, 0, 0, 0, 1, 0, 0, 0, 0, 1, 1, 0, 1, 0, 0, 1, 0, 0, 1, 1, 0, 0, 0, 0, 0], dtype=int64),\n",
       " array([1, 1, 1, 1, 0, 1, 0, 0, 0, 1, 0, 0, 0, 0, 1, 1, 0, 1, 0, 0, 1, 0, 0, 1, 1, 0, 0, 0, 0, 0], dtype=int64))"
      ]
     },
     "execution_count": 132,
     "metadata": {},
     "output_type": "execute_result"
    }
   ],
   "source": [
    "preds = learn.predict(True)*rtd_avg_weights_clas\n",
    "preds = np.argmax(preds, axis=1)\n",
    "preds[:30], predictions[:30]"
   ]
  },
  {
   "cell_type": "code",
   "execution_count": 133,
   "metadata": {},
   "outputs": [
    {
     "name": "stdout",
     "output_type": "stream",
     "text": [
      "Accuracy = 0.856675 , \n",
      "Confusion Matrix =\n",
      "[[35195  4913]\n",
      " [ 6553 33339]]\n",
      "F-Score:  0.8566067979209129\n",
      "Sem-eval F-Score:  0.856675\n",
      "             precision    recall  f1-score   support\n",
      "\n",
      "          0       0.84      0.88      0.86     40108\n",
      "          1       0.87      0.84      0.85     39892\n",
      "\n",
      "avg / total       0.86      0.86      0.86     80000\n",
      "\n"
     ]
    }
   ],
   "source": [
    "tst_lbls_sampled = np.load(CLAS_PATH/'tmp'/'tst_labels.npy').flatten()\n",
    "#tst_lbls_sampled = tst_lbls[list(tst_samp)]\n",
    "predictions = np.argmax(learn.predict(True), axis=1)\n",
    "acc = (tst_lbls_sampled == preds).mean()\n",
    "print(\"Accuracy =\", acc, \", \\nConfusion Matrix =\")\n",
    "clas_labels = [0,1]\n",
    "print(confusion_matrix(tst_lbls_sampled, preds, labels=clas_labels))\n",
    "print(\"F-Score: \", f1_score(tst_lbls_sampled, preds, average=\"weighted\"))\n",
    "print(\"Sem-eval F-Score: \", f1_score(tst_lbls_sampled, preds, labels=[0,1], average=\"micro\"))\n",
    "\n",
    "\n",
    "print(classification_report(tst_lbls_sampled, preds))"
   ]
  },
  {
   "cell_type": "code",
   "execution_count": 134,
   "metadata": {},
   "outputs": [
    {
     "data": {
      "text/plain": [
       "(array([[0.52185, 0.47815]]), array([[0.52184, 0.47816]]))"
      ]
     },
     "execution_count": 134,
     "metadata": {},
     "output_type": "execute_result"
    }
   ],
   "source": [
    "x = np.unique(preds, return_counts=True)\n",
    "y = np.unique(predictions, return_counts=True)\n",
    "\n",
    "x[1]/[[np.sum(x[1])]*len(x[1])], y[1]/[[np.sum(y[1])]*len(y[1])]"
   ]
  },
  {
   "cell_type": "markdown",
   "metadata": {},
   "source": [
    "### Create output"
   ]
  },
  {
   "cell_type": "code",
   "execution_count": 135,
   "metadata": {},
   "outputs": [],
   "source": [
    "def create_output():\n",
    "    output = []\n",
    "    output.append([\"id\",\"turn1\", \"turn2\", \"turn3\", \"label\"])\n",
    "    preds = learn.predict(True)*rtd_avg_weights_clas\n",
    "    predictions = np.argmax(preds, axis=1) #(True = Testset)\n",
    "    \n",
    "    \n",
    "    for i, text in enumerate(tst_texts):\n",
    "        output.append([str(i),text, CLASSES[predictions[i]]])\n",
    "    return output"
   ]
  },
  {
   "cell_type": "code",
   "execution_count": 136,
   "metadata": {},
   "outputs": [],
   "source": [
    "def write_sample():\n",
    "    outputs = create_output()\n",
    "    with open(\"test.txt\", \"w\", encoding=\"utf-8\") as writer:\n",
    "        for output_set in outputs:\n",
    "            line = \"\\t\".join(output_set)\n",
    "            writer.write(line+\"\\n\")\n",
    "write_sample()"
   ]
  },
  {
   "cell_type": "code",
   "execution_count": null,
   "metadata": {},
   "outputs": [],
   "source": [
    "np.exp(3.91)"
   ]
  },
  {
   "cell_type": "code",
   "execution_count": null,
   "metadata": {},
   "outputs": [],
   "source": []
  }
 ],
 "metadata": {
  "celltoolbar": "Initialization Cell",
  "kernelspec": {
   "display_name": "Python 3",
   "language": "python",
   "name": "python3"
  },
  "language_info": {
   "codemirror_mode": {
    "name": "ipython",
    "version": 3
   },
   "file_extension": ".py",
   "mimetype": "text/x-python",
   "name": "python",
   "nbconvert_exporter": "python",
   "pygments_lexer": "ipython3",
   "version": "3.6.5"
  }
 },
 "nbformat": 4,
 "nbformat_minor": 2
}
